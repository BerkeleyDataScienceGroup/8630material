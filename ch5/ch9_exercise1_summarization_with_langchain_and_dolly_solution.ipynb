{
 "cells": [
  {
   "cell_type": "markdown",
   "id": "5e25be3e",
   "metadata": {},
   "source": [
    "# Exercise - Build a model with LangChain and Dolly"
   ]
  },
  {
   "cell_type": "markdown",
   "id": "8dde9b3e",
   "metadata": {},
   "source": [
    "Build summarization model using `LangChain` with `Free Dolly` and `Pipeline`"
   ]
  },
  {
   "cell_type": "markdown",
   "id": "989a8780",
   "metadata": {},
   "source": [
    "Install requirements"
   ]
  },
  {
   "cell_type": "code",
   "execution_count": 1,
   "id": "1ca82946",
   "metadata": {},
   "outputs": [],
   "source": [
    "!pip install \"accelerate>=0.16.0,<1\" \"transformers[torch]>=4.28.1,<5\" \"torch>=1.13.1,<2\" --quiet\n",
    "!pip install langchain>=0.0.139 --quiet"
   ]
  },
  {
   "cell_type": "markdown",
   "id": "da9c6e86",
   "metadata": {},
   "source": [
    "Import dependencies"
   ]
  },
  {
   "cell_type": "code",
   "execution_count": 2,
   "id": "394e3579",
   "metadata": {},
   "outputs": [],
   "source": [
    "import torch\n",
    "from transformers import pipeline"
   ]
  },
  {
   "cell_type": "markdown",
   "id": "4440b74f",
   "metadata": {},
   "source": [
    "Define dolly model using pipeline"
   ]
  },
  {
   "cell_type": "code",
   "execution_count": 3,
   "id": "240fca21",
   "metadata": {},
   "outputs": [],
   "source": [
    "dolly_llm = pipeline(model=\"databricks/dolly-v2-3b\",\n",
    "                         torch_dtype=torch.bfloat16,\n",
    "                         trust_remote_code=True,\n",
    "                         device_map=\"auto\",\n",
    "                         return_full_text=True)"
   ]
  },
  {
   "cell_type": "markdown",
   "id": "7fb4e74d",
   "metadata": {},
   "source": [
    "Create Template using Langchain `PromptTemplate`"
   ]
  },
  {
   "cell_type": "code",
   "execution_count": 4,
   "id": "b68a88a5",
   "metadata": {},
   "outputs": [],
   "source": [
    "from langchain import PromptTemplate, LLMChain\n",
    "from langchain.llms import HuggingFacePipeline"
   ]
  },
  {
   "cell_type": "code",
   "execution_count": 5,
   "id": "4b9b0cde",
   "metadata": {},
   "outputs": [],
   "source": [
    "prompt_with_context = PromptTemplate(\n",
    "    input_variables=[\"instruction\", \"context\"],\n",
    "    template=\"{instruction}\\n\\nInput:\\n{context}\")"
   ]
  },
  {
   "cell_type": "markdown",
   "id": "d918b415",
   "metadata": {},
   "source": [
    "Define Hugging Face pipeline and add it to LLMChain"
   ]
  },
  {
   "cell_type": "code",
   "execution_count": 6,
   "id": "9fee0713",
   "metadata": {},
   "outputs": [],
   "source": [
    "hf_pipeline = HuggingFacePipeline(pipeline=dolly_llm)\n",
    "\n",
    "llm_chain = LLMChain(llm=hf_pipeline, prompt=prompt_with_context)"
   ]
  },
  {
   "cell_type": "markdown",
   "id": "c4c27957",
   "metadata": {},
   "source": [
    "Here is the instruction and text for summarization"
   ]
  },
  {
   "cell_type": "code",
   "execution_count": 7,
   "id": "eccd93be",
   "metadata": {},
   "outputs": [],
   "source": [
    "text_to_summarize = \"\"\"\n",
    "Virgin Galactic has rocketed to the edge of space with its first tourists, including a former British Olympian who bought his ticket 18 years ago and a mother-daughter duo from the Caribbean.\n",
    "\n",
    "The space plane glided back to a runway landing on Thursday at Spaceport America in the New Mexico desert after a brief flight that gave passengers a few minutes of weightlessness.\n",
    "\n",
    "Cheers erupted from families and friends watching from below when the craft’s rocket motor fired after it was released from the plane that had carried it aloft. The rocket ship reached about 88km (55 miles) high.\n",
    "\n",
    "Richard Branson’s company expects to begin offering monthly trips to customers on its winged space plane, joining Jeff Bezos’s Blue Origin and Elon Musk’s SpaceX in the space tourism business.\n",
    "\n",
    "Virgin Galactic passenger Jon Goodwin, who was among the first to buy a ticket in 2005, said he had faith that he would someday make the trip. The 80-year-old athlete – he competed in canoeing in the 1972 Olympics – has Parkinson’s disease and wants to be an inspiration to others.\n",
    "\n",
    "“I hope it shows them that these obstacles can be the start rather than the end to new adventures,” he said in a statement.\n",
    "\n",
    "Ticket prices were $200,000 when Goodwin signed up. The cost is now $450,000.\n",
    "\n",
    "He was joined by sweepstakes winner Keisha Schahaff, 46, a health coach from Antigua, and her daughter, Anastatia Mayers, 18, a student at Scotland’s University of Aberdeen. Also on board: two pilots and the company’s astronaut trainer.\n",
    "It was Virgin Galactic’s seventh trip to space since 2018 but the first with a ticket-holder. Branson, the company’s founder, hopped on board for the first full-size crew ride in 2021. Italian military and government researchers soared aloft in June on the first commercial flight. About 800 people are currently on Virgin Galactic’s waiting list, according to the company.\n",
    "\n",
    "Virgin Galactic’s rocket ship launches from the belly of an aeroplane, not from the ground, and requires two pilots in the cockpit. Once the mothership reaches about 15km (10 miles), the space plane is released and fires its rocket motor to make the final push to just over 80km (50 miles) up. Passengers can unstrap from their seats, float around the cabin for a few minutes and take in the sweeping views of Earth before the space plane glides back home and lands on a runway.\n",
    "\"\"\""
   ]
  },
  {
   "cell_type": "code",
   "execution_count": 8,
   "id": "5cdb1f40",
   "metadata": {},
   "outputs": [],
   "source": [
    "instruction = \"\"\"\n",
    "Please summarize the following piece of text.\n",
    "Respond in a two short sentences with bullet points giving me:\n",
    "- What happened?\n",
    "- Who was involved? (including companies and persons)\n",
    "\"\"\""
   ]
  },
  {
   "cell_type": "markdown",
   "id": "47c9d1b8",
   "metadata": {},
   "source": [
    "Run langchain to do summarization"
   ]
  },
  {
   "cell_type": "code",
   "execution_count": 9,
   "id": "4021b021",
   "metadata": {},
   "outputs": [],
   "source": [
    "response = llm_chain.predict(instruction=instruction, context=text_to_summarize).lstrip()"
   ]
  },
  {
   "cell_type": "code",
   "execution_count": 10,
   "id": "375667d2",
   "metadata": {
    "tags": []
   },
   "outputs": [
    {
     "name": "stdout",
     "output_type": "stream",
     "text": [
      "Jon Goodwin purchased a ticket 18 years ago, and Keisha Schahaff won a lottery in 2021. Virgin Galactic started the commercial space tourism business, and Richard Branson’s company expects to offer monthly trips to customers on its winged space plane.\n"
     ]
    }
   ],
   "source": [
    "print(response)"
   ]
  }
 ],
 "metadata": {
  "kernelspec": {
   "display_name": "conda_python3",
   "language": "python",
   "name": "conda_python3"
  },
  "language_info": {
   "codemirror_mode": {
    "name": "ipython",
    "version": 3
   },
   "file_extension": ".py",
   "mimetype": "text/x-python",
   "name": "python",
   "nbconvert_exporter": "python",
   "pygments_lexer": "ipython3",
   "version": "3.10.12"
  }
 },
 "nbformat": 4,
 "nbformat_minor": 5
}
