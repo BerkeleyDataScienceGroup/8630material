{
 "cells": [
  {
   "cell_type": "markdown",
   "metadata": {
    "id": "ixAWYeq5Uk3V"
   },
   "source": [
    "### Chapter 3_Exercise 2_QuestionAnswer fine Tuned Model Using OpenAI\n",
    "\n",
    "The folder `qa-dataset` contains set of questions and answers. More details on dataset: https://www.kaggle.com/datasets/rtatman/questionanswer-dataset\n",
    "\n",
    "We are going to use this model to fine-tune existing OpenAI model."
   ]
  },
  {
   "cell_type": "markdown",
   "metadata": {
    "id": "InIbVHQqP3KW"
   },
   "source": [
    "#### Install Required modules:"
   ]
  },
  {
   "cell_type": "code",
   "execution_count": 3,
   "metadata": {
    "colab": {
     "base_uri": "https://localhost:8080/"
    },
    "executionInfo": {
     "elapsed": 10626,
     "status": "ok",
     "timestamp": 1700841465524,
     "user": {
      "displayName": "Gunnar Kleemann",
      "userId": "02122813220075330457"
     },
     "user_tz": 360
    },
    "id": "L3Jmgz1UP7cs",
    "outputId": "eb4903a2-a8fc-4922-a43e-b4b6c95aa85e",
    "tags": []
   },
   "outputs": [
    {
     "name": "stdout",
     "output_type": "stream",
     "text": [
      "\u001b[33mWARNING: Running pip as the 'root' user can result in broken permissions and conflicting behaviour with the system package manager. It is recommended to use a virtual environment instead: https://pip.pypa.io/warnings/venv\u001b[0m\u001b[33m\n",
      "\u001b[0m\n",
      "\u001b[1m[\u001b[0m\u001b[34;49mnotice\u001b[0m\u001b[1;39;49m]\u001b[0m\u001b[39;49m A new release of pip is available: \u001b[0m\u001b[31;49m23.2.1\u001b[0m\u001b[39;49m -> \u001b[0m\u001b[32;49m23.3.1\u001b[0m\n",
      "\u001b[1m[\u001b[0m\u001b[34;49mnotice\u001b[0m\u001b[1;39;49m]\u001b[0m\u001b[39;49m To update, run: \u001b[0m\u001b[32;49mpip install --upgrade pip\u001b[0m\n",
      "\u001b[33mWARNING: Running pip as the 'root' user can result in broken permissions and conflicting behaviour with the system package manager. It is recommended to use a virtual environment instead: https://pip.pypa.io/warnings/venv\u001b[0m\u001b[33m\n",
      "\u001b[0m\n",
      "\u001b[1m[\u001b[0m\u001b[34;49mnotice\u001b[0m\u001b[1;39;49m]\u001b[0m\u001b[39;49m A new release of pip is available: \u001b[0m\u001b[31;49m23.2.1\u001b[0m\u001b[39;49m -> \u001b[0m\u001b[32;49m23.3.1\u001b[0m\n",
      "\u001b[1m[\u001b[0m\u001b[34;49mnotice\u001b[0m\u001b[1;39;49m]\u001b[0m\u001b[39;49m To update, run: \u001b[0m\u001b[32;49mpip install --upgrade pip\u001b[0m\n"
     ]
    }
   ],
   "source": [
    "!pip install opendatasets --quiet\n",
    "!pip install openai --quiet"
   ]
  },
  {
   "cell_type": "markdown",
   "metadata": {
    "id": "k3pYTs11P3KY"
   },
   "source": [
    "##### Import Required Libraries:"
   ]
  },
  {
   "cell_type": "code",
   "execution_count": 4,
   "metadata": {
    "id": "kJVp4M-EP3KZ",
    "tags": []
   },
   "outputs": [],
   "source": [
    "import pandas as pd\n",
    "import opendatasets as od\n",
    "#import config_api #To call openAI api key,Make config_api.py to hide your ApiKey\n",
    "#import openai\n",
    "#fix\n",
    "from openai import OpenAI"
   ]
  },
  {
   "cell_type": "markdown",
   "metadata": {
    "id": "neWgibuiUk3X"
   },
   "source": [
    "#### 1. Load the data from the dataset."
   ]
  },
  {
   "cell_type": "code",
   "execution_count": 5,
   "metadata": {
    "colab": {
     "base_uri": "https://localhost:8080/",
     "height": 399
    },
    "executionInfo": {
     "elapsed": 4265,
     "status": "error",
     "timestamp": 1700841470476,
     "user": {
      "displayName": "Gunnar Kleemann",
      "userId": "02122813220075330457"
     },
     "user_tz": 360
    },
    "id": "EJ799EVGP3KZ",
    "outputId": "53d07da5-2cba-431a-83f2-271ffeea0d1f",
    "tags": []
   },
   "outputs": [
    {
     "name": "stdout",
     "output_type": "stream",
     "text": [
      "Please provide your Kaggle credentials to download this dataset. Learn more: http://bit.ly/kaggle-creds\n",
      "Your Kaggle username:"
     ]
    },
    {
     "name": "stdin",
     "output_type": "stream",
     "text": [
      "  gunnarklee\n"
     ]
    },
    {
     "name": "stdout",
     "output_type": "stream",
     "text": [
      "Your Kaggle Key:"
     ]
    },
    {
     "name": "stdin",
     "output_type": "stream",
     "text": [
      "  ········\n"
     ]
    },
    {
     "name": "stdout",
     "output_type": "stream",
     "text": [
      "Downloading questionanswer-dataset.zip to ./questionanswer-dataset\n"
     ]
    },
    {
     "name": "stderr",
     "output_type": "stream",
     "text": [
      "100%|██████████| 3.55M/3.55M [00:00<00:00, 17.9MB/s]\n"
     ]
    },
    {
     "name": "stdout",
     "output_type": "stream",
     "text": [
      "\n"
     ]
    }
   ],
   "source": [
    "# you need your kaggle username and API key here.\n",
    "qa_url = \"https://www.kaggle.com/datasets/rtatman/questionanswer-dataset\"\n",
    "od.download(qa_url)"
   ]
  },
  {
   "cell_type": "code",
   "execution_count": 6,
   "metadata": {
    "colab": {
     "base_uri": "https://localhost:8080/"
    },
    "executionInfo": {
     "elapsed": 516,
     "status": "ok",
     "timestamp": 1700841475637,
     "user": {
      "displayName": "Gunnar Kleemann",
      "userId": "02122813220075330457"
     },
     "user_tz": 360
    },
    "id": "TxYXIarwtqHl",
    "outputId": "71234442-1d21-4c52-bc70-b27db4a7f3b0",
    "tags": []
   },
   "outputs": [
    {
     "name": "stdout",
     "output_type": "stream",
     "text": [
      "/root/ch3_fix\n",
      "S08_question_answer_pairs.txt  S10_question_answer_pairs.txt  text_data_toc.csv\n",
      "S09_question_answer_pairs.txt  text_data\n",
      "ls: cannot access 'sample_data/': No such file or directory\n"
     ]
    }
   ],
   "source": [
    "!pwd\n",
    "!ls questionanswer-dataset\n",
    "!ls sample_data/\n"
   ]
  },
  {
   "cell_type": "code",
   "execution_count": 7,
   "metadata": {
    "colab": {
     "base_uri": "https://localhost:8080/"
    },
    "executionInfo": {
     "elapsed": 215,
     "status": "ok",
     "timestamp": 1700802759869,
     "user": {
      "displayName": "Gunnar Kleemann",
      "userId": "02122813220075330457"
     },
     "user_tz": 360
    },
    "id": "gGvZq0JS6V-q",
    "outputId": "d0f5a1f5-ee77-479c-9d15-e462a7c24074",
    "tags": []
   },
   "outputs": [
    {
     "name": "stdout",
     "output_type": "stream",
     "text": [
      "[]\n"
     ]
    }
   ],
   "source": [
    "# clean everything\n",
    "df_08=df_09=df_10=[]\n",
    "print(df_08)"
   ]
  },
  {
   "cell_type": "code",
   "execution_count": 10,
   "metadata": {
    "colab": {
     "base_uri": "https://localhost:8080/",
     "height": 310
    },
    "executionInfo": {
     "elapsed": 284,
     "status": "error",
     "timestamp": 1700802761394,
     "user": {
      "displayName": "Gunnar Kleemann",
      "userId": "02122813220075330457"
     },
     "user_tz": 360
    },
    "id": "Qx2ecLhlP3Kb",
    "outputId": "1e36e86f-46a9-4e36-cfb6-d41d5b682251",
    "tags": []
   },
   "outputs": [],
   "source": [
    "df_08 = pd.read_csv('questionanswer-dataset/S08_question_answer_pairs.txt', sep='\\t')\n",
    "df_09 = pd.read_csv('questionanswer-dataset/S09_question_answer_pairs.txt', sep='\\t')\n",
    "\n",
    "\n",
    "#df_08 = pd.read_csv('../GenerativeAI_specterDefence/questionanswer-dataset/S08_question_answer_pairs.txt', sep='\\t')\n",
    "#df_09 = pd.read_csv('../GenerativeAI_specterDefence/questionanswer-dataset/S09_question_answer_pairs.txt', sep='\\t')\n",
    "#df_10 = pd.read_csv('../GenerativeAI_specterDefence/questionanswer-dataset/S10_question_answer_pairs.txt', sep='\\t', encoding = 'ISO-8859-1')"
   ]
  },
  {
   "cell_type": "code",
   "execution_count": 11,
   "metadata": {
    "id": "8WPoru_q6BAS",
    "tags": []
   },
   "outputs": [],
   "source": [
    "# fix for df_10\n",
    "df_10 = pd.read_csv('questionanswer-dataset/S10_question_answer_pairs.txt', sep='\\t', encoding = 'ISO-8859-1')"
   ]
  },
  {
   "cell_type": "code",
   "execution_count": 12,
   "metadata": {
    "colab": {
     "base_uri": "https://localhost:8080/",
     "height": 380
    },
    "executionInfo": {
     "elapsed": 243,
     "status": "ok",
     "timestamp": 1700802767083,
     "user": {
      "displayName": "Gunnar Kleemann",
      "userId": "02122813220075330457"
     },
     "user_tz": 360
    },
    "id": "BSo-igP-P3Kb",
    "outputId": "b6a6e5ff-60e9-4817-f311-8456ffb0c2a4",
    "tags": []
   },
   "outputs": [
    {
     "data": {
      "text/html": [
       "<div>\n",
       "<style scoped>\n",
       "    .dataframe tbody tr th:only-of-type {\n",
       "        vertical-align: middle;\n",
       "    }\n",
       "\n",
       "    .dataframe tbody tr th {\n",
       "        vertical-align: top;\n",
       "    }\n",
       "\n",
       "    .dataframe thead th {\n",
       "        text-align: right;\n",
       "    }\n",
       "</style>\n",
       "<table border=\"1\" class=\"dataframe\">\n",
       "  <thead>\n",
       "    <tr style=\"text-align: right;\">\n",
       "      <th></th>\n",
       "      <th>ArticleTitle</th>\n",
       "      <th>Question</th>\n",
       "      <th>Answer</th>\n",
       "      <th>DifficultyFromQuestioner</th>\n",
       "      <th>DifficultyFromAnswerer</th>\n",
       "      <th>ArticleFile</th>\n",
       "    </tr>\n",
       "  </thead>\n",
       "  <tbody>\n",
       "    <tr>\n",
       "      <th>1710</th>\n",
       "      <td>Woodrow_Wilson</td>\n",
       "      <td>Was Wilson president of the American Political...</td>\n",
       "      <td>Yes</td>\n",
       "      <td>NaN</td>\n",
       "      <td>easy</td>\n",
       "      <td>S08_set3_a8</td>\n",
       "    </tr>\n",
       "    <tr>\n",
       "      <th>1711</th>\n",
       "      <td>Woodrow_Wilson</td>\n",
       "      <td>Did he not cast his ballot for John M. Palmer ...</td>\n",
       "      <td>Yes</td>\n",
       "      <td>NaN</td>\n",
       "      <td>easy</td>\n",
       "      <td>S08_set3_a8</td>\n",
       "    </tr>\n",
       "    <tr>\n",
       "      <th>1712</th>\n",
       "      <td>Woodrow_Wilson</td>\n",
       "      <td>Did Wilson not spend 1914 through the beginnin...</td>\n",
       "      <td>Yes</td>\n",
       "      <td>NaN</td>\n",
       "      <td>easy</td>\n",
       "      <td>S08_set3_a8</td>\n",
       "    </tr>\n",
       "    <tr>\n",
       "      <th>1713</th>\n",
       "      <td>Woodrow_Wilson</td>\n",
       "      <td>Was Wilson , a staunch opponent of antisemitis...</td>\n",
       "      <td>Yes</td>\n",
       "      <td>NaN</td>\n",
       "      <td>easy</td>\n",
       "      <td>S08_set3_a8</td>\n",
       "    </tr>\n",
       "    <tr>\n",
       "      <th>1714</th>\n",
       "      <td>Woodrow_Wilson</td>\n",
       "      <td>What happened in 1917?</td>\n",
       "      <td>raised billions through Liberty loans, imposed...</td>\n",
       "      <td>NaN</td>\n",
       "      <td>medium</td>\n",
       "      <td>S08_set3_a8</td>\n",
       "    </tr>\n",
       "  </tbody>\n",
       "</table>\n",
       "</div>"
      ],
      "text/plain": [
       "        ArticleTitle                                           Question  \\\n",
       "1710  Woodrow_Wilson  Was Wilson president of the American Political...   \n",
       "1711  Woodrow_Wilson  Did he not cast his ballot for John M. Palmer ...   \n",
       "1712  Woodrow_Wilson  Did Wilson not spend 1914 through the beginnin...   \n",
       "1713  Woodrow_Wilson  Was Wilson , a staunch opponent of antisemitis...   \n",
       "1714  Woodrow_Wilson                             What happened in 1917?   \n",
       "\n",
       "                                                 Answer  \\\n",
       "1710                                                Yes   \n",
       "1711                                                Yes   \n",
       "1712                                                Yes   \n",
       "1713                                                Yes   \n",
       "1714  raised billions through Liberty loans, imposed...   \n",
       "\n",
       "     DifficultyFromQuestioner DifficultyFromAnswerer  ArticleFile  \n",
       "1710                      NaN                   easy  S08_set3_a8  \n",
       "1711                      NaN                   easy  S08_set3_a8  \n",
       "1712                      NaN                   easy  S08_set3_a8  \n",
       "1713                      NaN                   easy  S08_set3_a8  \n",
       "1714                      NaN                 medium  S08_set3_a8  "
      ]
     },
     "execution_count": 12,
     "metadata": {},
     "output_type": "execute_result"
    }
   ],
   "source": [
    "df_08.tail()"
   ]
  },
  {
   "cell_type": "code",
   "execution_count": 13,
   "metadata": {
    "id": "eo1_nJdZP3Kb",
    "tags": []
   },
   "outputs": [],
   "source": [
    "df_all=pd.concat([df_08,df_09,df_10])"
   ]
  },
  {
   "cell_type": "code",
   "execution_count": 14,
   "metadata": {
    "colab": {
     "base_uri": "https://localhost:8080/",
     "height": 276
    },
    "executionInfo": {
     "elapsed": 266,
     "status": "ok",
     "timestamp": 1700802772012,
     "user": {
      "displayName": "Gunnar Kleemann",
      "userId": "02122813220075330457"
     },
     "user_tz": 360
    },
    "id": "2a9k6WVFP3Kc",
    "outputId": "dfaf8dbe-1eb0-4513-9ebf-9ac656dc86fc",
    "tags": []
   },
   "outputs": [
    {
     "data": {
      "text/html": [
       "<div>\n",
       "<style scoped>\n",
       "    .dataframe tbody tr th:only-of-type {\n",
       "        vertical-align: middle;\n",
       "    }\n",
       "\n",
       "    .dataframe tbody tr th {\n",
       "        vertical-align: top;\n",
       "    }\n",
       "\n",
       "    .dataframe thead th {\n",
       "        text-align: right;\n",
       "    }\n",
       "</style>\n",
       "<table border=\"1\" class=\"dataframe\">\n",
       "  <thead>\n",
       "    <tr style=\"text-align: right;\">\n",
       "      <th></th>\n",
       "      <th>ArticleTitle</th>\n",
       "      <th>Question</th>\n",
       "      <th>Answer</th>\n",
       "      <th>DifficultyFromQuestioner</th>\n",
       "      <th>DifficultyFromAnswerer</th>\n",
       "      <th>ArticleFile</th>\n",
       "    </tr>\n",
       "  </thead>\n",
       "  <tbody>\n",
       "    <tr>\n",
       "      <th>0</th>\n",
       "      <td>Abraham_Lincoln</td>\n",
       "      <td>Was Abraham Lincoln the sixteenth President of...</td>\n",
       "      <td>yes</td>\n",
       "      <td>easy</td>\n",
       "      <td>easy</td>\n",
       "      <td>S08_set3_a4</td>\n",
       "    </tr>\n",
       "    <tr>\n",
       "      <th>1</th>\n",
       "      <td>Abraham_Lincoln</td>\n",
       "      <td>Was Abraham Lincoln the sixteenth President of...</td>\n",
       "      <td>Yes.</td>\n",
       "      <td>easy</td>\n",
       "      <td>easy</td>\n",
       "      <td>S08_set3_a4</td>\n",
       "    </tr>\n",
       "    <tr>\n",
       "      <th>2</th>\n",
       "      <td>Abraham_Lincoln</td>\n",
       "      <td>Did Lincoln sign the National Banking Act of 1...</td>\n",
       "      <td>yes</td>\n",
       "      <td>easy</td>\n",
       "      <td>medium</td>\n",
       "      <td>S08_set3_a4</td>\n",
       "    </tr>\n",
       "    <tr>\n",
       "      <th>3</th>\n",
       "      <td>Abraham_Lincoln</td>\n",
       "      <td>Did Lincoln sign the National Banking Act of 1...</td>\n",
       "      <td>Yes.</td>\n",
       "      <td>easy</td>\n",
       "      <td>easy</td>\n",
       "      <td>S08_set3_a4</td>\n",
       "    </tr>\n",
       "    <tr>\n",
       "      <th>4</th>\n",
       "      <td>Abraham_Lincoln</td>\n",
       "      <td>Did his mother die of pneumonia?</td>\n",
       "      <td>no</td>\n",
       "      <td>easy</td>\n",
       "      <td>medium</td>\n",
       "      <td>S08_set3_a4</td>\n",
       "    </tr>\n",
       "  </tbody>\n",
       "</table>\n",
       "</div>"
      ],
      "text/plain": [
       "      ArticleTitle                                           Question Answer  \\\n",
       "0  Abraham_Lincoln  Was Abraham Lincoln the sixteenth President of...    yes   \n",
       "1  Abraham_Lincoln  Was Abraham Lincoln the sixteenth President of...   Yes.   \n",
       "2  Abraham_Lincoln  Did Lincoln sign the National Banking Act of 1...    yes   \n",
       "3  Abraham_Lincoln  Did Lincoln sign the National Banking Act of 1...   Yes.   \n",
       "4  Abraham_Lincoln                   Did his mother die of pneumonia?     no   \n",
       "\n",
       "  DifficultyFromQuestioner DifficultyFromAnswerer  ArticleFile  \n",
       "0                     easy                   easy  S08_set3_a4  \n",
       "1                     easy                   easy  S08_set3_a4  \n",
       "2                     easy                 medium  S08_set3_a4  \n",
       "3                     easy                   easy  S08_set3_a4  \n",
       "4                     easy                 medium  S08_set3_a4  "
      ]
     },
     "execution_count": 14,
     "metadata": {},
     "output_type": "execute_result"
    }
   ],
   "source": [
    "df_all.head()"
   ]
  },
  {
   "cell_type": "markdown",
   "metadata": {
    "id": "55hKI4dYUk3Y"
   },
   "source": [
    "#### 2. Analyze the dataset:\n",
    "    - What's the number of rows and columns ?\n",
    "    - Is there bad data inside this dataset (null values, missing etc) ?\n",
    "        - How should we deal with bad rows?\n",
    "    - How is training set distributed in respect to sentiment classes (i.e. how many rows with negative sentiment etc) ?"
   ]
  },
  {
   "cell_type": "code",
   "execution_count": 15,
   "metadata": {
    "colab": {
     "base_uri": "https://localhost:8080/"
    },
    "executionInfo": {
     "elapsed": 213,
     "status": "ok",
     "timestamp": 1700802774763,
     "user": {
      "displayName": "Gunnar Kleemann",
      "userId": "02122813220075330457"
     },
     "user_tz": 360
    },
    "id": "axt3YcmEUk3Z",
    "outputId": "4d8ca5fc-6670-4d5c-8c16-919b5c31fe5a",
    "tags": []
   },
   "outputs": [
    {
     "name": "stdout",
     "output_type": "stream",
     "text": [
      "<class 'pandas.core.frame.DataFrame'>\n",
      "Int64Index: 3998 entries, 0 to 1457\n",
      "Data columns (total 6 columns):\n",
      " #   Column                    Non-Null Count  Dtype \n",
      "---  ------                    --------------  ----- \n",
      " 0   ArticleTitle              3998 non-null   object\n",
      " 1   Question                  3961 non-null   object\n",
      " 2   Answer                    3422 non-null   object\n",
      " 3   DifficultyFromQuestioner  3043 non-null   object\n",
      " 4   DifficultyFromAnswerer    3418 non-null   object\n",
      " 5   ArticleFile               3996 non-null   object\n",
      "dtypes: object(6)\n",
      "memory usage: 218.6+ KB\n"
     ]
    }
   ],
   "source": [
    "#What's the number of rows and columns?\n",
    "df_all.info()"
   ]
  },
  {
   "cell_type": "code",
   "execution_count": 16,
   "metadata": {
    "colab": {
     "base_uri": "https://localhost:8080/",
     "height": 192
    },
    "executionInfo": {
     "elapsed": 312,
     "status": "ok",
     "timestamp": 1700802777027,
     "user": {
      "displayName": "Gunnar Kleemann",
      "userId": "02122813220075330457"
     },
     "user_tz": 360
    },
    "id": "6LiCQXM6P3Kc",
    "outputId": "107f0b12-0978-436f-d873-3f2085c384cb",
    "tags": []
   },
   "outputs": [
    {
     "data": {
      "text/html": [
       "<div>\n",
       "<style scoped>\n",
       "    .dataframe tbody tr th:only-of-type {\n",
       "        vertical-align: middle;\n",
       "    }\n",
       "\n",
       "    .dataframe tbody tr th {\n",
       "        vertical-align: top;\n",
       "    }\n",
       "\n",
       "    .dataframe thead th {\n",
       "        text-align: right;\n",
       "    }\n",
       "</style>\n",
       "<table border=\"1\" class=\"dataframe\">\n",
       "  <thead>\n",
       "    <tr style=\"text-align: right;\">\n",
       "      <th></th>\n",
       "      <th>ArticleTitle</th>\n",
       "      <th>Question</th>\n",
       "      <th>Answer</th>\n",
       "      <th>DifficultyFromQuestioner</th>\n",
       "      <th>DifficultyFromAnswerer</th>\n",
       "      <th>ArticleFile</th>\n",
       "    </tr>\n",
       "  </thead>\n",
       "  <tbody>\n",
       "    <tr>\n",
       "      <th>count</th>\n",
       "      <td>3998</td>\n",
       "      <td>3961</td>\n",
       "      <td>3422</td>\n",
       "      <td>3043</td>\n",
       "      <td>3418</td>\n",
       "      <td>3996</td>\n",
       "    </tr>\n",
       "    <tr>\n",
       "      <th>unique</th>\n",
       "      <td>109</td>\n",
       "      <td>2456</td>\n",
       "      <td>1828</td>\n",
       "      <td>4</td>\n",
       "      <td>5</td>\n",
       "      <td>135</td>\n",
       "    </tr>\n",
       "    <tr>\n",
       "      <th>top</th>\n",
       "      <td>Amedeo_Avogadro</td>\n",
       "      <td>Was King Victor Emmanuel III there to pay homa...</td>\n",
       "      <td>Yes</td>\n",
       "      <td>easy</td>\n",
       "      <td>easy</td>\n",
       "      <td>S08_set3_a9</td>\n",
       "    </tr>\n",
       "    <tr>\n",
       "      <th>freq</th>\n",
       "      <td>132</td>\n",
       "      <td>6</td>\n",
       "      <td>492</td>\n",
       "      <td>1035</td>\n",
       "      <td>1344</td>\n",
       "      <td>77</td>\n",
       "    </tr>\n",
       "  </tbody>\n",
       "</table>\n",
       "</div>"
      ],
      "text/plain": [
       "           ArticleTitle                                           Question  \\\n",
       "count              3998                                               3961   \n",
       "unique              109                                               2456   \n",
       "top     Amedeo_Avogadro  Was King Victor Emmanuel III there to pay homa...   \n",
       "freq                132                                                  6   \n",
       "\n",
       "       Answer DifficultyFromQuestioner DifficultyFromAnswerer  ArticleFile  \n",
       "count    3422                     3043                   3418         3996  \n",
       "unique   1828                        4                      5          135  \n",
       "top       Yes                     easy                   easy  S08_set3_a9  \n",
       "freq      492                     1035                   1344           77  "
      ]
     },
     "execution_count": 16,
     "metadata": {},
     "output_type": "execute_result"
    }
   ],
   "source": [
    "df_all.describe()"
   ]
  },
  {
   "cell_type": "code",
   "execution_count": 17,
   "metadata": {
    "colab": {
     "base_uri": "https://localhost:8080/"
    },
    "executionInfo": {
     "elapsed": 4,
     "status": "ok",
     "timestamp": 1700802778191,
     "user": {
      "displayName": "Gunnar Kleemann",
      "userId": "02122813220075330457"
     },
     "user_tz": 360
    },
    "id": "ltjDMYxVP3Kc",
    "outputId": "f1523108-e15c-46d7-8c1f-ddda754357bc",
    "tags": []
   },
   "outputs": [
    {
     "data": {
      "text/plain": [
       "ArticleTitle                3998\n",
       "Question                    3961\n",
       "Answer                      3422\n",
       "DifficultyFromQuestioner    3043\n",
       "DifficultyFromAnswerer      3418\n",
       "ArticleFile                 3996\n",
       "dtype: int64"
      ]
     },
     "execution_count": 17,
     "metadata": {},
     "output_type": "execute_result"
    }
   ],
   "source": [
    "df_all.count()"
   ]
  },
  {
   "cell_type": "markdown",
   "metadata": {
    "id": "TmI-t66CP3Kd"
   },
   "source": [
    "#### Is there bad data inside this dataset (null values, missing etc)"
   ]
  },
  {
   "cell_type": "code",
   "execution_count": 18,
   "metadata": {
    "colab": {
     "base_uri": "https://localhost:8080/",
     "height": 206
    },
    "executionInfo": {
     "elapsed": 4,
     "status": "ok",
     "timestamp": 1700802779747,
     "user": {
      "displayName": "Gunnar Kleemann",
      "userId": "02122813220075330457"
     },
     "user_tz": 360
    },
    "id": "kP3MiWfhP3Kd",
    "outputId": "adf02446-e010-44f8-e203-a317baa8d9c3",
    "tags": []
   },
   "outputs": [
    {
     "data": {
      "text/html": [
       "<div>\n",
       "<style scoped>\n",
       "    .dataframe tbody tr th:only-of-type {\n",
       "        vertical-align: middle;\n",
       "    }\n",
       "\n",
       "    .dataframe tbody tr th {\n",
       "        vertical-align: top;\n",
       "    }\n",
       "\n",
       "    .dataframe thead th {\n",
       "        text-align: right;\n",
       "    }\n",
       "</style>\n",
       "<table border=\"1\" class=\"dataframe\">\n",
       "  <thead>\n",
       "    <tr style=\"text-align: right;\">\n",
       "      <th></th>\n",
       "      <th>Question</th>\n",
       "      <th>Answer</th>\n",
       "    </tr>\n",
       "  </thead>\n",
       "  <tbody>\n",
       "    <tr>\n",
       "      <th>0</th>\n",
       "      <td>Was Abraham Lincoln the sixteenth President of...</td>\n",
       "      <td>yes</td>\n",
       "    </tr>\n",
       "    <tr>\n",
       "      <th>1</th>\n",
       "      <td>Was Abraham Lincoln the sixteenth President of...</td>\n",
       "      <td>Yes.</td>\n",
       "    </tr>\n",
       "    <tr>\n",
       "      <th>2</th>\n",
       "      <td>Did Lincoln sign the National Banking Act of 1...</td>\n",
       "      <td>yes</td>\n",
       "    </tr>\n",
       "    <tr>\n",
       "      <th>3</th>\n",
       "      <td>Did Lincoln sign the National Banking Act of 1...</td>\n",
       "      <td>Yes.</td>\n",
       "    </tr>\n",
       "    <tr>\n",
       "      <th>4</th>\n",
       "      <td>Did his mother die of pneumonia?</td>\n",
       "      <td>no</td>\n",
       "    </tr>\n",
       "  </tbody>\n",
       "</table>\n",
       "</div>"
      ],
      "text/plain": [
       "                                            Question Answer\n",
       "0  Was Abraham Lincoln the sixteenth President of...    yes\n",
       "1  Was Abraham Lincoln the sixteenth President of...   Yes.\n",
       "2  Did Lincoln sign the National Banking Act of 1...    yes\n",
       "3  Did Lincoln sign the National Banking Act of 1...   Yes.\n",
       "4                   Did his mother die of pneumonia?     no"
      ]
     },
     "execution_count": 18,
     "metadata": {},
     "output_type": "execute_result"
    }
   ],
   "source": [
    "df_qa = df_all[['Question', 'Answer']]\n",
    "df_qa.head()"
   ]
  },
  {
   "cell_type": "code",
   "execution_count": 19,
   "metadata": {
    "id": "_dl_XSDrP3Kd",
    "tags": []
   },
   "outputs": [],
   "source": [
    "df_qa =df_qa.dropna(axis=0)\n",
    "df_qa = df_qa.drop_duplicates(subset='Question')"
   ]
  },
  {
   "cell_type": "code",
   "execution_count": 20,
   "metadata": {
    "colab": {
     "base_uri": "https://localhost:8080/"
    },
    "executionInfo": {
     "elapsed": 270,
     "status": "ok",
     "timestamp": 1700802788566,
     "user": {
      "displayName": "Gunnar Kleemann",
      "userId": "02122813220075330457"
     },
     "user_tz": 360
    },
    "id": "mmrjiMW_P3Kd",
    "outputId": "2aef14a2-097a-4b7b-be83-18b89d67da9d",
    "tags": []
   },
   "outputs": [
    {
     "data": {
      "text/plain": [
       "Question    False\n",
       "Answer      False\n",
       "dtype: bool"
      ]
     },
     "execution_count": 20,
     "metadata": {},
     "output_type": "execute_result"
    }
   ],
   "source": [
    "# Check for \"NaN\" values\n",
    "df_qa.isna().any()"
   ]
  },
  {
   "cell_type": "code",
   "execution_count": 21,
   "metadata": {
    "colab": {
     "base_uri": "https://localhost:8080/"
    },
    "executionInfo": {
     "elapsed": 198,
     "status": "ok",
     "timestamp": 1700802794692,
     "user": {
      "displayName": "Gunnar Kleemann",
      "userId": "02122813220075330457"
     },
     "user_tz": 360
    },
    "id": "t-AX_i_yP3Kd",
    "outputId": "b7804d73-247f-4501-92b6-0dd827389ac3",
    "tags": []
   },
   "outputs": [
    {
     "name": "stdout",
     "output_type": "stream",
     "text": [
      "<class 'pandas.core.frame.DataFrame'>\n",
      "Int64Index: 2203 entries, 0 to 1456\n",
      "Data columns (total 2 columns):\n",
      " #   Column    Non-Null Count  Dtype \n",
      "---  ------    --------------  ----- \n",
      " 0   Question  2203 non-null   object\n",
      " 1   Answer    2203 non-null   object\n",
      "dtypes: object(2)\n",
      "memory usage: 51.6+ KB\n"
     ]
    }
   ],
   "source": [
    "df_qa.info()"
   ]
  },
  {
   "cell_type": "markdown",
   "metadata": {
    "id": "XN-zvR32Uk3Z"
   },
   "source": [
    "#### 3. You are going to use this dataset for Fine Tuning task. Prepare the dataset in the format which is needed by OpenAI fine-tuning API."
   ]
  },
  {
   "cell_type": "markdown",
   "metadata": {
    "id": "UCwRVLopP3Ke"
   },
   "source": [
    "#### Collect & Format Training Data in prompt and completion form"
   ]
  },
  {
   "cell_type": "code",
   "execution_count": 22,
   "metadata": {
    "id": "qKy5G19NP3Ke",
    "tags": []
   },
   "outputs": [],
   "source": [
    "\n",
    "df=df_qa.rename(columns={\"Question\": \"prompt\", \"Answer\": \"completion\"})\n",
    "df=df.dropna()"
   ]
  },
  {
   "cell_type": "code",
   "execution_count": 23,
   "metadata": {
    "colab": {
     "base_uri": "https://localhost:8080/",
     "height": 206
    },
    "executionInfo": {
     "elapsed": 4,
     "status": "ok",
     "timestamp": 1700802799312,
     "user": {
      "displayName": "Gunnar Kleemann",
      "userId": "02122813220075330457"
     },
     "user_tz": 360
    },
    "id": "6NqVelpxP3Ke",
    "outputId": "35c70482-936e-4ac2-f918-f2a2d6a7a1d3",
    "tags": []
   },
   "outputs": [
    {
     "data": {
      "text/html": [
       "<div>\n",
       "<style scoped>\n",
       "    .dataframe tbody tr th:only-of-type {\n",
       "        vertical-align: middle;\n",
       "    }\n",
       "\n",
       "    .dataframe tbody tr th {\n",
       "        vertical-align: top;\n",
       "    }\n",
       "\n",
       "    .dataframe thead th {\n",
       "        text-align: right;\n",
       "    }\n",
       "</style>\n",
       "<table border=\"1\" class=\"dataframe\">\n",
       "  <thead>\n",
       "    <tr style=\"text-align: right;\">\n",
       "      <th></th>\n",
       "      <th>prompt</th>\n",
       "      <th>completion</th>\n",
       "    </tr>\n",
       "  </thead>\n",
       "  <tbody>\n",
       "    <tr>\n",
       "      <th>0</th>\n",
       "      <td>Was Abraham Lincoln the sixteenth President of...</td>\n",
       "      <td>yes</td>\n",
       "    </tr>\n",
       "    <tr>\n",
       "      <th>2</th>\n",
       "      <td>Did Lincoln sign the National Banking Act of 1...</td>\n",
       "      <td>yes</td>\n",
       "    </tr>\n",
       "    <tr>\n",
       "      <th>4</th>\n",
       "      <td>Did his mother die of pneumonia?</td>\n",
       "      <td>no</td>\n",
       "    </tr>\n",
       "    <tr>\n",
       "      <th>6</th>\n",
       "      <td>How many long was Lincoln's formal education?</td>\n",
       "      <td>18 months</td>\n",
       "    </tr>\n",
       "    <tr>\n",
       "      <th>8</th>\n",
       "      <td>When did Lincoln begin his political career?</td>\n",
       "      <td>1832</td>\n",
       "    </tr>\n",
       "  </tbody>\n",
       "</table>\n",
       "</div>"
      ],
      "text/plain": [
       "                                              prompt completion\n",
       "0  Was Abraham Lincoln the sixteenth President of...        yes\n",
       "2  Did Lincoln sign the National Banking Act of 1...        yes\n",
       "4                   Did his mother die of pneumonia?         no\n",
       "6      How many long was Lincoln's formal education?  18 months\n",
       "8       When did Lincoln begin his political career?       1832"
      ]
     },
     "execution_count": 23,
     "metadata": {},
     "output_type": "execute_result"
    }
   ],
   "source": [
    "df.head()"
   ]
  },
  {
   "cell_type": "markdown",
   "metadata": {
    "id": "NIlXh6MRP3Ke"
   },
   "source": [
    "#### Split data in train and validation"
   ]
  },
  {
   "cell_type": "code",
   "execution_count": 24,
   "metadata": {
    "id": "S5PB5CfxP3Ke",
    "tags": []
   },
   "outputs": [],
   "source": [
    "from sklearn.model_selection import train_test_split\n",
    "df_train, df_val = train_test_split(df,test_size=.1)"
   ]
  },
  {
   "cell_type": "code",
   "execution_count": 25,
   "metadata": {
    "colab": {
     "base_uri": "https://localhost:8080/"
    },
    "executionInfo": {
     "elapsed": 3,
     "status": "ok",
     "timestamp": 1700802801964,
     "user": {
      "displayName": "Gunnar Kleemann",
      "userId": "02122813220075330457"
     },
     "user_tz": 360
    },
    "id": "bDEqNpKUP3Ke",
    "outputId": "ac840b3b-9c7f-4cc5-a98b-380faf0eddb6",
    "tags": []
   },
   "outputs": [
    {
     "name": "stdout",
     "output_type": "stream",
     "text": [
      "<class 'pandas.core.frame.DataFrame'>\n",
      "Int64Index: 1982 entries, 364 to 771\n",
      "Data columns (total 2 columns):\n",
      " #   Column      Non-Null Count  Dtype \n",
      "---  ------      --------------  ----- \n",
      " 0   prompt      1982 non-null   object\n",
      " 1   completion  1982 non-null   object\n",
      "dtypes: object(2)\n",
      "memory usage: 46.5+ KB\n"
     ]
    }
   ],
   "source": [
    "df_train.info()"
   ]
  },
  {
   "cell_type": "code",
   "execution_count": 26,
   "metadata": {
    "colab": {
     "base_uri": "https://localhost:8080/"
    },
    "executionInfo": {
     "elapsed": 4,
     "status": "ok",
     "timestamp": 1700802803453,
     "user": {
      "displayName": "Gunnar Kleemann",
      "userId": "02122813220075330457"
     },
     "user_tz": 360
    },
    "id": "FqGIl0UjP3Kf",
    "outputId": "c42f0370-6dfc-4c9a-b04e-5641d0919fad",
    "tags": []
   },
   "outputs": [
    {
     "name": "stdout",
     "output_type": "stream",
     "text": [
      "<class 'pandas.core.frame.DataFrame'>\n",
      "Int64Index: 221 entries, 848 to 0\n",
      "Data columns (total 2 columns):\n",
      " #   Column      Non-Null Count  Dtype \n",
      "---  ------      --------------  ----- \n",
      " 0   prompt      221 non-null    object\n",
      " 1   completion  221 non-null    object\n",
      "dtypes: object(2)\n",
      "memory usage: 5.2+ KB\n"
     ]
    }
   ],
   "source": [
    "df_val.info()"
   ]
  },
  {
   "cell_type": "markdown",
   "metadata": {
    "id": "haFhMnkCP3Kf"
   },
   "source": [
    "#### Convert dataset into json form"
   ]
  },
  {
   "cell_type": "code",
   "execution_count": 27,
   "metadata": {
    "id": "pjcW8JV1P3Kf",
    "tags": []
   },
   "outputs": [],
   "source": [
    "df_train.to_json(\"qadatasetTrain.jsonl\", orient='records', lines=True)"
   ]
  },
  {
   "cell_type": "code",
   "execution_count": 28,
   "metadata": {
    "id": "wA0wtQ-YP3Kf",
    "tags": []
   },
   "outputs": [],
   "source": [
    "df_val.to_json(\"qadatasetval.jsonl\", orient='records', lines=True)"
   ]
  },
  {
   "cell_type": "code",
   "execution_count": 29,
   "metadata": {
    "id": "4xTCni38P3Kf",
    "tags": []
   },
   "outputs": [],
   "source": [
    "df.to_json(\"qadataset.jsonl\", orient='records', lines=True)"
   ]
  },
  {
   "cell_type": "markdown",
   "metadata": {
    "id": "5mUoskMPP3Kf"
   },
   "source": [
    "#### Prepare data for fine tune"
   ]
  },
  {
   "cell_type": "code",
   "execution_count": 39,
   "metadata": {
    "colab": {
     "base_uri": "https://localhost:8080/"
    },
    "executionInfo": {
     "elapsed": 1697,
     "status": "ok",
     "timestamp": 1700804620806,
     "user": {
      "displayName": "Gunnar Kleemann",
      "userId": "02122813220075330457"
     },
     "user_tz": 360
    },
    "id": "5GeibhWbP3Kf",
    "outputId": "1681aa0c-73c4-4111-e76a-a84a65b5efd5",
    "tags": []
   },
   "outputs": [],
   "source": [
    "#Validate & Test Training Data\n",
    "!openai -k {api_key} tools fine_tunes.prepare_data -f qadataset.jsonl -q"
   ]
  },
  {
   "cell_type": "code",
   "execution_count": 32,
   "metadata": {
    "colab": {
     "base_uri": "https://localhost:8080/"
    },
    "executionInfo": {
     "elapsed": 2132,
     "status": "ok",
     "timestamp": 1700804704158,
     "user": {
      "displayName": "Gunnar Kleemann",
      "userId": "02122813220075330457"
     },
     "user_tz": 360
    },
    "id": "j9PqaFAsP3Kf",
    "outputId": "96fcee26-1ff6-4ab6-c32f-1d5d8c0f2a16",
    "tags": []
   },
   "outputs": [],
   "source": [
    "#Validate & Test Training Data\n",
    "!openai -k {api_key} tools fine_tunes.prepare_data -f qadatasetTrain.jsonl -q"
   ]
  },
  {
   "cell_type": "code",
   "execution_count": 33,
   "metadata": {
    "colab": {
     "base_uri": "https://localhost:8080/"
    },
    "executionInfo": {
     "elapsed": 2081,
     "status": "ok",
     "timestamp": 1700804706237,
     "user": {
      "displayName": "Gunnar Kleemann",
      "userId": "02122813220075330457"
     },
     "user_tz": 360
    },
    "id": "st9si3UqP3Kf",
    "outputId": "123cac3f-c663-4bb0-8935-cf4d72e1b4ab",
    "tags": []
   },
   "outputs": [],
   "source": [
    "#Validate & Test Training Data\n",
    "!openai -k {api_key} tools fine_tunes.prepare_data -f qadatasetval.jsonl -q"
   ]
  },
  {
   "cell_type": "markdown",
   "metadata": {
    "id": "2BRNAKMAP3Kg"
   },
   "source": [
    "#### Fine tune model with Davinci"
   ]
  },
  {
   "cell_type": "code",
   "execution_count": 40,
   "metadata": {
    "id": "vCWh3kZSgPyz",
    "tags": []
   },
   "outputs": [],
   "source": [
    "#calling your apikey and setting up the client\n",
    "#openai.api_key = config_api.OPENAI_API_KEY\n",
    "api_key = \"\""
   ]
  },
  {
   "cell_type": "code",
   "execution_count": 41,
   "metadata": {
    "id": "3oqPWQlKk-m3",
    "tags": []
   },
   "outputs": [],
   "source": [
    "#fix\n",
    "client = OpenAI(api_key=api_key)"
   ]
  },
  {
   "cell_type": "code",
   "execution_count": 42,
   "metadata": {
    "colab": {
     "base_uri": "https://localhost:8080/"
    },
    "executionInfo": {
     "elapsed": 452,
     "status": "ok",
     "timestamp": 1700841521469,
     "user": {
      "displayName": "Gunnar Kleemann",
      "userId": "02122813220075330457"
     },
     "user_tz": 360
    },
    "id": "5s9sGfHCh39z",
    "outputId": "bd6a9ffb-39a4-456a-f031-8352947d14f8",
    "tags": []
   },
   "outputs": [
    {
     "name": "stdout",
     "output_type": "stream",
     "text": [
      "Ch3_Exercise_FineTune_OpenAI.ipynb\n",
      "Ch3_Exercise_FineTune_OpenAI_Solution_GAKfix_11_22_23.ipynb\n",
      "ch3_demo1_FineTune_forQA_fix_11_21_23.ipynb\n",
      "ch3_demo2_FineTune_ForClassification_Fix11_22_23.ipynb\n",
      "qadataset.jsonl\n",
      "qadatasetTrain.jsonl\n",
      "qadatasetval.jsonl\n",
      "questionanswer-dataset\n",
      "training_data_classification.jsonl\n"
     ]
    }
   ],
   "source": [
    "# check the files that we have prepared and where they are\n",
    "!ls"
   ]
  },
  {
   "cell_type": "code",
   "execution_count": 43,
   "metadata": {
    "id": "AzXuWbxZP3Kk",
    "tags": []
   },
   "outputs": [],
   "source": [
    "#file_name_ls = [\"qadataset_prepared.jsonl\",\n",
    "#                \"qadatasetval_prepared.jsonl\",\n",
    "#                \"qadatasetTrain_prepared.jsonl\"]\n",
    "\n",
    "file_name_ls = [\"qadataset.jsonl\",\n",
    "               \"qadatasetval.jsonl\",\n",
    "               \"qadatasetTrain.jsonl\"]\n",
    "\n",
    "\n",
    "upload_response={}\n",
    "\n",
    "for file_name in file_name_ls:\n",
    "  upload_response[file_name] = client.files.create(\n",
    "  file=open(file_name, \"rb\"),\n",
    "  purpose='fine-tune')"
   ]
  },
  {
   "cell_type": "code",
   "execution_count": 45,
   "metadata": {
    "colab": {
     "base_uri": "https://localhost:8080/",
     "height": 35
    },
    "executionInfo": {
     "elapsed": 7,
     "status": "ok",
     "timestamp": 1700804779873,
     "user": {
      "displayName": "Gunnar Kleemann",
      "userId": "02122813220075330457"
     },
     "user_tz": 360
    },
    "id": "P_9IQpk_m_qp",
    "outputId": "131762f2-aad6-4a5d-e4aa-11b3a5da5e4c",
    "tags": []
   },
   "outputs": [
    {
     "data": {
      "text/plain": [
       "'file-FUccUOHYh4Z6Kc8Q5fFaBnpn'"
      ]
     },
     "execution_count": 45,
     "metadata": {},
     "output_type": "execute_result"
    }
   ],
   "source": [
    "#upload_response['qadatasetTrain_prepared.jsonl'].id\n",
    "upload_response['qadatasetTrain.jsonl'].id"
   ]
  },
  {
   "cell_type": "code",
   "execution_count": 46,
   "metadata": {
    "colab": {
     "base_uri": "https://localhost:8080/"
    },
    "executionInfo": {
     "elapsed": 333,
     "status": "ok",
     "timestamp": 1700804781685,
     "user": {
      "displayName": "Gunnar Kleemann",
      "userId": "02122813220075330457"
     },
     "user_tz": 360
    },
    "id": "wkqz7A-cP3Kk",
    "outputId": "bc343e23-6a80-4d72-d232-aa3ea239771e",
    "tags": []
   },
   "outputs": [
    {
     "data": {
      "text/plain": [
       "{'id': 'ft-CbuxJgf3kTKX2n4EfixyYKKr',\n",
       " 'created_at': 1701414533,\n",
       " 'fine_tuned_model': None,\n",
       " 'hyperparams': Hyperparams(batch_size=None, learning_rate_multiplier=None, n_epochs=4, prompt_loss_weight=0.01, classification_n_classes=None, classification_positive_class=None, compute_classification_metrics=None),\n",
       " 'model': 'davinci',\n",
       " 'object': 'fine-tune',\n",
       " 'organization_id': 'org-heTRxyuue7iTIuT3uUuUFCPN',\n",
       " 'result_files': [],\n",
       " 'status': 'pending',\n",
       " 'training_files': [FileObject(id='file-FUccUOHYh4Z6Kc8Q5fFaBnpn', bytes=210050, created_at=1701414457, filename='qadatasetTrain.jsonl', object='file', purpose='fine-tune', status='processed', status_details=None)],\n",
       " 'updated_at': 1701414533,\n",
       " 'validation_files': [FileObject(id='file-mkjTg9XmJt6WqevPC99vdQah', bytes=23058, created_at=1701414456, filename='qadatasetval.jsonl', object='file', purpose='fine-tune', status='processed', status_details=None)],\n",
       " 'events': [FineTuneEvent(created_at=1701414533, level='info', message='Created fine-tune: ft-CbuxJgf3kTKX2n4EfixyYKKr', object='fine-tune-event')]}"
      ]
     },
     "execution_count": 46,
     "metadata": {},
     "output_type": "execute_result"
    }
   ],
   "source": [
    "#train_file_id = upload_response['qadatasetTrain_prepared.jsonl'].id\n",
    "#val_file_id = upload_response['qadatasetval_prepared.jsonl'].id\n",
    "\n",
    "train_file_id = upload_response['qadatasetTrain.jsonl'].id\n",
    "val_file_id = upload_response['qadatasetval.jsonl'].id\n",
    "\n",
    "\n",
    "fine_tune_response = client.fine_tunes.create(\n",
    "     training_file=train_file_id,\n",
    "     validation_file=val_file_id,\n",
    "     model=\"davinci\")\n",
    "dict(fine_tune_response)"
   ]
  },
  {
   "cell_type": "code",
   "execution_count": 78,
   "metadata": {
    "colab": {
     "base_uri": "https://localhost:8080/",
     "height": 89
    },
    "executionInfo": {
     "elapsed": 542,
     "status": "ok",
     "timestamp": 1700842111893,
     "user": {
      "displayName": "Gunnar Kleemann",
      "userId": "02122813220075330457"
     },
     "user_tz": 360
    },
    "id": "uM_r1tcp0vjg",
    "outputId": "3c284ef3-898b-4c09-fd00-819095d23e42",
    "tags": []
   },
   "outputs": [
    {
     "name": "stdout",
     "output_type": "stream",
     "text": [
      "job status is: running \n",
      "\n",
      "\n"
     ]
    },
    {
     "data": {
      "text/plain": [
       "'Created fine-tune: ft-CbuxJgf3kTKX2n4EfixyYKKr'"
      ]
     },
     "execution_count": 78,
     "metadata": {},
     "output_type": "execute_result"
    }
   ],
   "source": [
    "# write some code to check the status of the job periodically\n",
    "job_id=fine_tune_response.id\n",
    "\n",
    "#fine-tune: dynamic variable\n",
    "\n",
    "print(f'job status is: {client.fine_tunes.retrieve(job_id).status} \\n\\n')\n",
    "\n",
    "events = client.fine_tunes.list_events(job_id)#stream_events(job_id)\n",
    "dict(events)['data'][0].created_at\n",
    "dict(events)['data'][0].message\n"
   ]
  },
  {
   "cell_type": "code",
   "execution_count": 87,
   "metadata": {
    "colab": {
     "base_uri": "https://localhost:8080/"
    },
    "executionInfo": {
     "elapsed": 433,
     "status": "ok",
     "timestamp": 1700844788683,
     "user": {
      "displayName": "Gunnar Kleemann",
      "userId": "02122813220075330457"
     },
     "user_tz": 360
    },
    "id": "2weMp8k4P3Kk",
    "outputId": "b95537a6-ce9a-446d-848c-307632758fc3",
    "tags": []
   },
   "outputs": [
    {
     "name": "stdout",
     "output_type": "stream",
     "text": [
      "Streaming events for the fine-tuning job: ft-CbuxJgf3kTKX2n4EfixyYKKr\n",
      "FineTuneEventsListResponse(data=[FineTuneEvent(created_at=1701414533, level='info', message='Created fine-tune: ft-CbuxJgf3kTKX2n4EfixyYKKr', object='fine-tune-event'), FineTuneEvent(created_at=1701414540, level='info', message='Fine-tune costs $4.12', object='fine-tune-event'), FineTuneEvent(created_at=1701414540, level='info', message='Fine-tune enqueued. Queue number: 0', object='fine-tune-event'), FineTuneEvent(created_at=1701414543, level='info', message='Fine-tune started', object='fine-tune-event'), FineTuneEvent(created_at=1701415610, level='info', message='Completed epoch 1/4', object='fine-tune-event'), FineTuneEvent(created_at=1701416579, level='info', message='Completed epoch 2/4', object='fine-tune-event')], object='list')\n",
      "2023-12-01 07:08:53 Created fine-tune: ft-CbuxJgf3kTKX2n4EfixyYKKr\n",
      "2023-12-01 07:09:00 Fine-tune costs $4.12\n",
      "2023-12-01 07:09:00 Fine-tune enqueued. Queue number: 0\n",
      "2023-12-01 07:09:03 Fine-tune started\n",
      "2023-12-01 07:26:50 Completed epoch 1/4\n",
      "2023-12-01 07:42:59 Completed epoch 2/4\n"
     ]
    }
   ],
   "source": [
    "import signal\n",
    "import datetime\n",
    "\n",
    "def signal_handler(sig, frame):\n",
    "  status = client.fine_tunes.retrieve(job_id).status\n",
    "  print(f\"Stream interrupted. Job is still {status}.\")\n",
    "  return\n",
    "\n",
    "print(f'Streaming events for the fine-tuning job: {job_id}')\n",
    "signal.signal(signal.SIGINT, signal_handler)\n",
    "\n",
    "events = client.fine_tunes.list_events(job_id)#stream_events(job_id)\n",
    "print(events)\n",
    "\n",
    "\n",
    "try:\n",
    "   for event in dict(events)['data']:\n",
    "        print(f'{datetime.datetime.fromtimestamp(event.created_at)} {event.message}')\n",
    "except Exception:\n",
    "    print(\"Stream interrupted (client disconnected).\")"
   ]
  },
  {
   "cell_type": "code",
   "execution_count": 86,
   "metadata": {
    "colab": {
     "base_uri": "https://localhost:8080/"
    },
    "executionInfo": {
     "elapsed": 1255,
     "status": "ok",
     "timestamp": 1700844792658,
     "user": {
      "displayName": "Gunnar Kleemann",
      "userId": "02122813220075330457"
     },
     "user_tz": 360
    },
    "id": "imWSLxqbP3Kl",
    "outputId": "242d4fb8-ff49-4c21-f777-2c14bbf5ce23",
    "tags": []
   },
   "outputs": [],
   "source": [
    "#List of files\n",
    "# client.files.list().__dict__"
   ]
  },
  {
   "cell_type": "code",
   "execution_count": null,
   "metadata": {
    "id": "6s4nYkV5P3Kl",
    "outputId": "ceff64d0-3ab1-4d8e-b7ea-dbcf35b3f7bd"
   },
   "outputs": [
    {
     "data": {
      "text/plain": [
       "<File file id=file-ueDUir2IWsnY8eWzzkTMkwNC at 0x7fc3f1da0040> JSON: {\n",
       "  \"deleted\": true,\n",
       "  \"id\": \"file-ueDUir2IWsnY8eWzzkTMkwNC\",\n",
       "  \"object\": \"file\"\n",
       "}"
      ]
     },
     "execution_count": 55,
     "metadata": {},
     "output_type": "execute_result"
    }
   ],
   "source": [
    "#If we want to delete files\n",
    "#openai.File.delete(\"file-ueDUir2IWsnY8eWzzkTMkwNC\")\n",
    "#openai.File.delete(\"file-cafvjzDNRJuYaaR5nF6R4HmL\")"
   ]
  },
  {
   "cell_type": "code",
   "execution_count": 83,
   "metadata": {
    "colab": {
     "base_uri": "https://localhost:8080/"
    },
    "executionInfo": {
     "elapsed": 565,
     "status": "ok",
     "timestamp": 1700842567885,
     "user": {
      "displayName": "Gunnar Kleemann",
      "userId": "02122813220075330457"
     },
     "user_tz": 360
    },
    "id": "e5eyylQ-ObqH",
    "outputId": "37b5cd63-6d73-48e4-ea2a-1d43e396c06d",
    "tags": []
   },
   "outputs": [],
   "source": [
    "# client.fine_tunes.list().__dict__"
   ]
  },
  {
   "cell_type": "code",
   "execution_count": 73,
   "metadata": {
    "tags": []
   },
   "outputs": [
    {
     "data": {
      "text/plain": [
       "FineTune(id='ft-CbuxJgf3kTKX2n4EfixyYKKr', created_at=1701414533, fine_tuned_model=None, hyperparams=Hyperparams(batch_size=2, learning_rate_multiplier=0.1, n_epochs=4, prompt_loss_weight=0.01, classification_n_classes=None, classification_positive_class=None, compute_classification_metrics=None), model='davinci', object='fine-tune', organization_id='org-heTRxyuue7iTIuT3uUuUFCPN', result_files=[], status='running', training_files=[FileObject(id='file-FUccUOHYh4Z6Kc8Q5fFaBnpn', bytes=210050, created_at=1701414457, filename='qadatasetTrain.jsonl', object='file', purpose='fine-tune', status='processed', status_details=None)], updated_at=1701415610, validation_files=[FileObject(id='file-mkjTg9XmJt6WqevPC99vdQah', bytes=23058, created_at=1701414456, filename='qadatasetval.jsonl', object='file', purpose='fine-tune', status='processed', status_details=None)], events=None)"
      ]
     },
     "execution_count": 73,
     "metadata": {},
     "output_type": "execute_result"
    }
   ],
   "source": [
    "client.fine_tunes.list().__dict__['data'][-1]"
   ]
  },
  {
   "cell_type": "code",
   "execution_count": null,
   "metadata": {},
   "outputs": [],
   "source": [
    "#downloading performance result\n",
    "#!openai -k \"API_Key\" api fine_tunes.results -i ft-NhTMnjJpgvfYLy5feuXAvq7G> compiled_results.csv\n",
    "\n",
    "response_file='file-eGQQgTBVvdIBoRauGpHE0IWP'\n",
    "\n",
    "## dynamic response file ID\n",
    "resultsdv=client.files.content(response_file)\n",
    "resultsdv.astream_to_file(\"compiled_results.csv\")"
   ]
  },
  {
   "cell_type": "markdown",
   "metadata": {
    "id": "_KOy0bmBP3Kl"
   },
   "source": [
    "#### Downloading performance result"
   ]
  },
  {
   "cell_type": "code",
   "execution_count": null,
   "metadata": {
    "id": "68xqM3WGQwpg"
   },
   "outputs": [],
   "source": [
    "#Evaluation Metric for Fine tuned model\n",
    "\n",
    "import sys\n",
    "if sys.version_info[0] < 3:\n",
    "    from StringIO import StringIO\n",
    "else:\n",
    "    from io import StringIO\n",
    "\n",
    "TESTDATA = StringIO(resultsdv.text)\n",
    "df = pd.read_csv(TESTDATA, sep=\",\")\n"
   ]
  },
  {
   "cell_type": "code",
   "execution_count": null,
   "metadata": {
    "colab": {
     "base_uri": "https://localhost:8080/",
     "height": 444
    },
    "executionInfo": {
     "elapsed": 366,
     "status": "ok",
     "timestamp": 1700844811671,
     "user": {
      "displayName": "Gunnar Kleemann",
      "userId": "02122813220075330457"
     },
     "user_tz": 360
    },
    "id": "h4YxhUD7K9o9",
    "outputId": "d71ebb34-4e18-4653-e73d-5d8141a4bf48"
   },
   "outputs": [
    {
     "data": {
      "text/html": [
       "\n",
       "  <div id=\"df-23db46e8-a748-4b77-bab5-b5fd5284e92d\" class=\"colab-df-container\">\n",
       "    <div>\n",
       "<style scoped>\n",
       "    .dataframe tbody tr th:only-of-type {\n",
       "        vertical-align: middle;\n",
       "    }\n",
       "\n",
       "    .dataframe tbody tr th {\n",
       "        vertical-align: top;\n",
       "    }\n",
       "\n",
       "    .dataframe thead th {\n",
       "        text-align: right;\n",
       "    }\n",
       "</style>\n",
       "<table border=\"1\" class=\"dataframe\">\n",
       "  <thead>\n",
       "    <tr style=\"text-align: right;\">\n",
       "      <th></th>\n",
       "      <th>step</th>\n",
       "      <th>elapsed_tokens</th>\n",
       "      <th>elapsed_examples</th>\n",
       "      <th>training_loss</th>\n",
       "      <th>training_sequence_accuracy</th>\n",
       "      <th>training_token_accuracy</th>\n",
       "      <th>validation_loss</th>\n",
       "      <th>validation_sequence_accuracy</th>\n",
       "      <th>validation_token_accuracy</th>\n",
       "    </tr>\n",
       "  </thead>\n",
       "  <tbody>\n",
       "    <tr>\n",
       "      <th>0</th>\n",
       "      <td>1</td>\n",
       "      <td>82</td>\n",
       "      <td>2</td>\n",
       "      <td>0.483909</td>\n",
       "      <td>0.0</td>\n",
       "      <td>0.793103</td>\n",
       "      <td>1.35961</td>\n",
       "      <td>0.0</td>\n",
       "      <td>0.275862</td>\n",
       "    </tr>\n",
       "    <tr>\n",
       "      <th>1</th>\n",
       "      <td>2</td>\n",
       "      <td>148</td>\n",
       "      <td>4</td>\n",
       "      <td>0.324674</td>\n",
       "      <td>0.0</td>\n",
       "      <td>0.600000</td>\n",
       "      <td>NaN</td>\n",
       "      <td>NaN</td>\n",
       "      <td>NaN</td>\n",
       "    </tr>\n",
       "    <tr>\n",
       "      <th>2</th>\n",
       "      <td>3</td>\n",
       "      <td>198</td>\n",
       "      <td>6</td>\n",
       "      <td>0.483172</td>\n",
       "      <td>0.0</td>\n",
       "      <td>0.444444</td>\n",
       "      <td>NaN</td>\n",
       "      <td>NaN</td>\n",
       "      <td>NaN</td>\n",
       "    </tr>\n",
       "    <tr>\n",
       "      <th>3</th>\n",
       "      <td>4</td>\n",
       "      <td>280</td>\n",
       "      <td>8</td>\n",
       "      <td>0.648474</td>\n",
       "      <td>0.0</td>\n",
       "      <td>0.629630</td>\n",
       "      <td>NaN</td>\n",
       "      <td>NaN</td>\n",
       "      <td>NaN</td>\n",
       "    </tr>\n",
       "    <tr>\n",
       "      <th>4</th>\n",
       "      <td>5</td>\n",
       "      <td>362</td>\n",
       "      <td>10</td>\n",
       "      <td>0.205089</td>\n",
       "      <td>0.5</td>\n",
       "      <td>0.750000</td>\n",
       "      <td>NaN</td>\n",
       "      <td>NaN</td>\n",
       "      <td>NaN</td>\n",
       "    </tr>\n",
       "    <tr>\n",
       "      <th>...</th>\n",
       "      <td>...</td>\n",
       "      <td>...</td>\n",
       "      <td>...</td>\n",
       "      <td>...</td>\n",
       "      <td>...</td>\n",
       "      <td>...</td>\n",
       "      <td>...</td>\n",
       "      <td>...</td>\n",
       "      <td>...</td>\n",
       "    </tr>\n",
       "    <tr>\n",
       "      <th>3961</th>\n",
       "      <td>3962</td>\n",
       "      <td>215908</td>\n",
       "      <td>7924</td>\n",
       "      <td>0.229686</td>\n",
       "      <td>0.5</td>\n",
       "      <td>0.871795</td>\n",
       "      <td>NaN</td>\n",
       "      <td>NaN</td>\n",
       "      <td>NaN</td>\n",
       "    </tr>\n",
       "    <tr>\n",
       "      <th>3962</th>\n",
       "      <td>3963</td>\n",
       "      <td>215958</td>\n",
       "      <td>7926</td>\n",
       "      <td>0.040680</td>\n",
       "      <td>1.0</td>\n",
       "      <td>1.000000</td>\n",
       "      <td>NaN</td>\n",
       "      <td>NaN</td>\n",
       "      <td>NaN</td>\n",
       "    </tr>\n",
       "    <tr>\n",
       "      <th>3963</th>\n",
       "      <td>3964</td>\n",
       "      <td>215992</td>\n",
       "      <td>7928</td>\n",
       "      <td>0.035407</td>\n",
       "      <td>1.0</td>\n",
       "      <td>1.000000</td>\n",
       "      <td>NaN</td>\n",
       "      <td>NaN</td>\n",
       "      <td>NaN</td>\n",
       "    </tr>\n",
       "    <tr>\n",
       "      <th>3964</th>\n",
       "      <td>3965</td>\n",
       "      <td>216026</td>\n",
       "      <td>7930</td>\n",
       "      <td>0.120028</td>\n",
       "      <td>0.5</td>\n",
       "      <td>0.888889</td>\n",
       "      <td>NaN</td>\n",
       "      <td>NaN</td>\n",
       "      <td>NaN</td>\n",
       "    </tr>\n",
       "    <tr>\n",
       "      <th>3965</th>\n",
       "      <td>3966</td>\n",
       "      <td>216092</td>\n",
       "      <td>7932</td>\n",
       "      <td>0.075589</td>\n",
       "      <td>0.5</td>\n",
       "      <td>0.960000</td>\n",
       "      <td>NaN</td>\n",
       "      <td>NaN</td>\n",
       "      <td>NaN</td>\n",
       "    </tr>\n",
       "  </tbody>\n",
       "</table>\n",
       "<p>3966 rows × 9 columns</p>\n",
       "</div>\n",
       "    <div class=\"colab-df-buttons\">\n",
       "\n",
       "  <div class=\"colab-df-container\">\n",
       "    <button class=\"colab-df-convert\" onclick=\"convertToInteractive('df-23db46e8-a748-4b77-bab5-b5fd5284e92d')\"\n",
       "            title=\"Convert this dataframe to an interactive table.\"\n",
       "            style=\"display:none;\">\n",
       "\n",
       "  <svg xmlns=\"http://www.w3.org/2000/svg\" height=\"24px\" viewBox=\"0 -960 960 960\">\n",
       "    <path d=\"M120-120v-720h720v720H120Zm60-500h600v-160H180v160Zm220 220h160v-160H400v160Zm0 220h160v-160H400v160ZM180-400h160v-160H180v160Zm440 0h160v-160H620v160ZM180-180h160v-160H180v160Zm440 0h160v-160H620v160Z\"/>\n",
       "  </svg>\n",
       "    </button>\n",
       "\n",
       "  <style>\n",
       "    .colab-df-container {\n",
       "      display:flex;\n",
       "      gap: 12px;\n",
       "    }\n",
       "\n",
       "    .colab-df-convert {\n",
       "      background-color: #E8F0FE;\n",
       "      border: none;\n",
       "      border-radius: 50%;\n",
       "      cursor: pointer;\n",
       "      display: none;\n",
       "      fill: #1967D2;\n",
       "      height: 32px;\n",
       "      padding: 0 0 0 0;\n",
       "      width: 32px;\n",
       "    }\n",
       "\n",
       "    .colab-df-convert:hover {\n",
       "      background-color: #E2EBFA;\n",
       "      box-shadow: 0px 1px 2px rgba(60, 64, 67, 0.3), 0px 1px 3px 1px rgba(60, 64, 67, 0.15);\n",
       "      fill: #174EA6;\n",
       "    }\n",
       "\n",
       "    .colab-df-buttons div {\n",
       "      margin-bottom: 4px;\n",
       "    }\n",
       "\n",
       "    [theme=dark] .colab-df-convert {\n",
       "      background-color: #3B4455;\n",
       "      fill: #D2E3FC;\n",
       "    }\n",
       "\n",
       "    [theme=dark] .colab-df-convert:hover {\n",
       "      background-color: #434B5C;\n",
       "      box-shadow: 0px 1px 3px 1px rgba(0, 0, 0, 0.15);\n",
       "      filter: drop-shadow(0px 1px 2px rgba(0, 0, 0, 0.3));\n",
       "      fill: #FFFFFF;\n",
       "    }\n",
       "  </style>\n",
       "\n",
       "    <script>\n",
       "      const buttonEl =\n",
       "        document.querySelector('#df-23db46e8-a748-4b77-bab5-b5fd5284e92d button.colab-df-convert');\n",
       "      buttonEl.style.display =\n",
       "        google.colab.kernel.accessAllowed ? 'block' : 'none';\n",
       "\n",
       "      async function convertToInteractive(key) {\n",
       "        const element = document.querySelector('#df-23db46e8-a748-4b77-bab5-b5fd5284e92d');\n",
       "        const dataTable =\n",
       "          await google.colab.kernel.invokeFunction('convertToInteractive',\n",
       "                                                    [key], {});\n",
       "        if (!dataTable) return;\n",
       "\n",
       "        const docLinkHtml = 'Like what you see? Visit the ' +\n",
       "          '<a target=\"_blank\" href=https://colab.research.google.com/notebooks/data_table.ipynb>data table notebook</a>'\n",
       "          + ' to learn more about interactive tables.';\n",
       "        element.innerHTML = '';\n",
       "        dataTable['output_type'] = 'display_data';\n",
       "        await google.colab.output.renderOutput(dataTable, element);\n",
       "        const docLink = document.createElement('div');\n",
       "        docLink.innerHTML = docLinkHtml;\n",
       "        element.appendChild(docLink);\n",
       "      }\n",
       "    </script>\n",
       "  </div>\n",
       "\n",
       "\n",
       "<div id=\"df-0f99cc6e-58fb-4367-a9b4-2773da0768c7\">\n",
       "  <button class=\"colab-df-quickchart\" onclick=\"quickchart('df-0f99cc6e-58fb-4367-a9b4-2773da0768c7')\"\n",
       "            title=\"Suggest charts\"\n",
       "            style=\"display:none;\">\n",
       "\n",
       "<svg xmlns=\"http://www.w3.org/2000/svg\" height=\"24px\"viewBox=\"0 0 24 24\"\n",
       "     width=\"24px\">\n",
       "    <g>\n",
       "        <path d=\"M19 3H5c-1.1 0-2 .9-2 2v14c0 1.1.9 2 2 2h14c1.1 0 2-.9 2-2V5c0-1.1-.9-2-2-2zM9 17H7v-7h2v7zm4 0h-2V7h2v10zm4 0h-2v-4h2v4z\"/>\n",
       "    </g>\n",
       "</svg>\n",
       "  </button>\n",
       "\n",
       "<style>\n",
       "  .colab-df-quickchart {\n",
       "      --bg-color: #E8F0FE;\n",
       "      --fill-color: #1967D2;\n",
       "      --hover-bg-color: #E2EBFA;\n",
       "      --hover-fill-color: #174EA6;\n",
       "      --disabled-fill-color: #AAA;\n",
       "      --disabled-bg-color: #DDD;\n",
       "  }\n",
       "\n",
       "  [theme=dark] .colab-df-quickchart {\n",
       "      --bg-color: #3B4455;\n",
       "      --fill-color: #D2E3FC;\n",
       "      --hover-bg-color: #434B5C;\n",
       "      --hover-fill-color: #FFFFFF;\n",
       "      --disabled-bg-color: #3B4455;\n",
       "      --disabled-fill-color: #666;\n",
       "  }\n",
       "\n",
       "  .colab-df-quickchart {\n",
       "    background-color: var(--bg-color);\n",
       "    border: none;\n",
       "    border-radius: 50%;\n",
       "    cursor: pointer;\n",
       "    display: none;\n",
       "    fill: var(--fill-color);\n",
       "    height: 32px;\n",
       "    padding: 0;\n",
       "    width: 32px;\n",
       "  }\n",
       "\n",
       "  .colab-df-quickchart:hover {\n",
       "    background-color: var(--hover-bg-color);\n",
       "    box-shadow: 0 1px 2px rgba(60, 64, 67, 0.3), 0 1px 3px 1px rgba(60, 64, 67, 0.15);\n",
       "    fill: var(--button-hover-fill-color);\n",
       "  }\n",
       "\n",
       "  .colab-df-quickchart-complete:disabled,\n",
       "  .colab-df-quickchart-complete:disabled:hover {\n",
       "    background-color: var(--disabled-bg-color);\n",
       "    fill: var(--disabled-fill-color);\n",
       "    box-shadow: none;\n",
       "  }\n",
       "\n",
       "  .colab-df-spinner {\n",
       "    border: 2px solid var(--fill-color);\n",
       "    border-color: transparent;\n",
       "    border-bottom-color: var(--fill-color);\n",
       "    animation:\n",
       "      spin 1s steps(1) infinite;\n",
       "  }\n",
       "\n",
       "  @keyframes spin {\n",
       "    0% {\n",
       "      border-color: transparent;\n",
       "      border-bottom-color: var(--fill-color);\n",
       "      border-left-color: var(--fill-color);\n",
       "    }\n",
       "    20% {\n",
       "      border-color: transparent;\n",
       "      border-left-color: var(--fill-color);\n",
       "      border-top-color: var(--fill-color);\n",
       "    }\n",
       "    30% {\n",
       "      border-color: transparent;\n",
       "      border-left-color: var(--fill-color);\n",
       "      border-top-color: var(--fill-color);\n",
       "      border-right-color: var(--fill-color);\n",
       "    }\n",
       "    40% {\n",
       "      border-color: transparent;\n",
       "      border-right-color: var(--fill-color);\n",
       "      border-top-color: var(--fill-color);\n",
       "    }\n",
       "    60% {\n",
       "      border-color: transparent;\n",
       "      border-right-color: var(--fill-color);\n",
       "    }\n",
       "    80% {\n",
       "      border-color: transparent;\n",
       "      border-right-color: var(--fill-color);\n",
       "      border-bottom-color: var(--fill-color);\n",
       "    }\n",
       "    90% {\n",
       "      border-color: transparent;\n",
       "      border-bottom-color: var(--fill-color);\n",
       "    }\n",
       "  }\n",
       "</style>\n",
       "\n",
       "  <script>\n",
       "    async function quickchart(key) {\n",
       "      const quickchartButtonEl =\n",
       "        document.querySelector('#' + key + ' button');\n",
       "      quickchartButtonEl.disabled = true;  // To prevent multiple clicks.\n",
       "      quickchartButtonEl.classList.add('colab-df-spinner');\n",
       "      try {\n",
       "        const charts = await google.colab.kernel.invokeFunction(\n",
       "            'suggestCharts', [key], {});\n",
       "      } catch (error) {\n",
       "        console.error('Error during call to suggestCharts:', error);\n",
       "      }\n",
       "      quickchartButtonEl.classList.remove('colab-df-spinner');\n",
       "      quickchartButtonEl.classList.add('colab-df-quickchart-complete');\n",
       "    }\n",
       "    (() => {\n",
       "      let quickchartButtonEl =\n",
       "        document.querySelector('#df-0f99cc6e-58fb-4367-a9b4-2773da0768c7 button');\n",
       "      quickchartButtonEl.style.display =\n",
       "        google.colab.kernel.accessAllowed ? 'block' : 'none';\n",
       "    })();\n",
       "  </script>\n",
       "</div>\n",
       "    </div>\n",
       "  </div>\n"
      ],
      "text/plain": [
       "      step  elapsed_tokens  elapsed_examples  training_loss  \\\n",
       "0        1              82                 2       0.483909   \n",
       "1        2             148                 4       0.324674   \n",
       "2        3             198                 6       0.483172   \n",
       "3        4             280                 8       0.648474   \n",
       "4        5             362                10       0.205089   \n",
       "...    ...             ...               ...            ...   \n",
       "3961  3962          215908              7924       0.229686   \n",
       "3962  3963          215958              7926       0.040680   \n",
       "3963  3964          215992              7928       0.035407   \n",
       "3964  3965          216026              7930       0.120028   \n",
       "3965  3966          216092              7932       0.075589   \n",
       "\n",
       "      training_sequence_accuracy  training_token_accuracy  validation_loss  \\\n",
       "0                            0.0                 0.793103          1.35961   \n",
       "1                            0.0                 0.600000              NaN   \n",
       "2                            0.0                 0.444444              NaN   \n",
       "3                            0.0                 0.629630              NaN   \n",
       "4                            0.5                 0.750000              NaN   \n",
       "...                          ...                      ...              ...   \n",
       "3961                         0.5                 0.871795              NaN   \n",
       "3962                         1.0                 1.000000              NaN   \n",
       "3963                         1.0                 1.000000              NaN   \n",
       "3964                         0.5                 0.888889              NaN   \n",
       "3965                         0.5                 0.960000              NaN   \n",
       "\n",
       "      validation_sequence_accuracy  validation_token_accuracy  \n",
       "0                              0.0                   0.275862  \n",
       "1                              NaN                        NaN  \n",
       "2                              NaN                        NaN  \n",
       "3                              NaN                        NaN  \n",
       "4                              NaN                        NaN  \n",
       "...                            ...                        ...  \n",
       "3961                           NaN                        NaN  \n",
       "3962                           NaN                        NaN  \n",
       "3963                           NaN                        NaN  \n",
       "3964                           NaN                        NaN  \n",
       "3965                           NaN                        NaN  \n",
       "\n",
       "[3966 rows x 9 columns]"
      ]
     },
     "execution_count": 32,
     "metadata": {},
     "output_type": "execute_result"
    }
   ],
   "source": [
    "df\n"
   ]
  },
  {
   "cell_type": "code",
   "execution_count": null,
   "metadata": {
    "colab": {
     "base_uri": "https://localhost:8080/"
    },
    "executionInfo": {
     "elapsed": 1478,
     "status": "ok",
     "timestamp": 1700845669303,
     "user": {
      "displayName": "Gunnar Kleemann",
      "userId": "02122813220075330457"
     },
     "user_tz": 360
    },
    "id": "dzfuSBN-I6yo",
    "outputId": "97025a6e-94a3-4da5-a243-3e6541ec0658"
   },
   "outputs": [
    {
     "name": "stdout",
     "output_type": "stream",
     "text": [
      "Drive already mounted at /gdrive; to attempt to forcibly remount, call drive.mount(\"/gdrive\", force_remount=True).\n"
     ]
    }
   ],
   "source": [
    "## For Google colab\n",
    "# # Import Drive API and authenticate.\n",
    "# from google.colab import drive\n",
    "\n",
    "# # Mount your Drive to the Colab VM.\n",
    "# drive.mount('/gdrive')\n",
    "\n",
    "# # Write the DataFrame to CSV file.\n",
    "# with open('/gdrive/My Drive/ch3_ft_traing_metrics.csv', 'w') as f:\n",
    "#   df.to_csv(f)\n",
    "\n",
    "# !ls '/gdrive/My Drive'"
   ]
  },
  {
   "cell_type": "markdown",
   "metadata": {
    "id": "ktgwYLMlP3Kn"
   },
   "source": [
    "#### Evaluation Metric for Fine tuned model"
   ]
  },
  {
   "cell_type": "markdown",
   "metadata": {
    "id": "tVtNUbzgP3Kn"
   },
   "source": [
    "- elapsed_tokens: the number of tokens the model has seen so far (including repeats)\n",
    "- elapsed_examples: the number of examples the model has seen so far (including repeats), where one example is one element in your batch. For example, if batch_size = 4, each step will increase elapsed_examples by 4.\n",
    "- training_loss: loss on the training batch\n",
    "- training_sequence_accuracy: the percentage of completions in the training batch for which the model's predicted tokens matched the true completion tokens exactly. For example, with a batch_size of 3, if your data contains the completions [[1, 2], [0, 5], [4, 2]] and the model predicted [[1, 1], [0, 5], [4, 2]], this accuracy will be 2/3 = 0.67\n",
    "- training_token_accuracy: the percentage of tokens in the training batch that were correctly predicted by the model. For example, with a batch_size of 3, if your data contains the completions [[1, 2], [0, 5], [4, 2]] and the model predicted [[1, 1], [0, 5], [4, 2]], this accuracy will be 5/6 = 0.83"
   ]
  },
  {
   "cell_type": "code",
   "execution_count": null,
   "metadata": {
    "id": "ML5c3cQfP3Ko",
    "outputId": "c3e67748-2e59-40c5-d975-0e3f3748dd01"
   },
   "outputs": [
    {
     "data": {
      "text/plain": [
       "<OpenAIObject list at 0x7fe91765d540> JSON: {\n",
       "  \"data\": [\n",
       "    {\n",
       "      \"bytes\": 257945,\n",
       "      \"created_at\": 1687803132,\n",
       "      \"filename\": \"file\",\n",
       "      \"id\": \"file-eAtd5HpcE3BZn3gq9GCxkqCe\",\n",
       "      \"object\": \"file\",\n",
       "      \"purpose\": \"fine-tune\",\n",
       "      \"status\": \"error\",\n",
       "      \"status_details\": \"Invalid file format. Example 1359 has a non-string prompt.\"\n",
       "    },\n",
       "    {\n",
       "      \"bytes\": 152687,\n",
       "      \"created_at\": 1687809519,\n",
       "      \"filename\": \"fluDataWithSentiment_prepared_valid.jsonl\",\n",
       "      \"id\": \"file-JnuoylU2b2KnO5CxBrd86JrH\",\n",
       "      \"object\": \"file\",\n",
       "      \"purpose\": \"fine-tune\",\n",
       "      \"status\": \"processed\",\n",
       "      \"status_details\": null\n",
       "    },\n",
       "    {\n",
       "      \"bytes\": 173514,\n",
       "      \"created_at\": 1687814119,\n",
       "      \"filename\": \"compiled_results.csv\",\n",
       "      \"id\": \"file-tuqCFk2dXgGVRT1RmJLBfOGC\",\n",
       "      \"object\": \"file\",\n",
       "      \"purpose\": \"fine-tune-results\",\n",
       "      \"status\": \"processed\",\n",
       "      \"status_details\": null\n",
       "    },\n",
       "    {\n",
       "      \"bytes\": 3546408,\n",
       "      \"created_at\": 1687809517,\n",
       "      \"filename\": \"fluDataWithSentiment_prepared_train.jsonl\",\n",
       "      \"id\": \"file-iOjvELZQ37inLDEZ019XvyfX\",\n",
       "      \"object\": \"file\",\n",
       "      \"purpose\": \"fine-tune\",\n",
       "      \"status\": \"processed\",\n",
       "      \"status_details\": null\n",
       "    },\n",
       "    {\n",
       "      \"bytes\": 30738,\n",
       "      \"created_at\": 1687809863,\n",
       "      \"filename\": \"fluDataWithSentiment_prepared_valid.jsonl\",\n",
       "      \"id\": \"file-QNmhvlyl7eA1xj2Db9G96d9I\",\n",
       "      \"object\": \"file\",\n",
       "      \"purpose\": \"fine-tune\",\n",
       "      \"status\": \"processed\",\n",
       "      \"status_details\": null\n",
       "    },\n",
       "    {\n",
       "      \"bytes\": 123923,\n",
       "      \"created_at\": 1687809861,\n",
       "      \"filename\": \"fluDataWithSentiment_prepared_train.jsonl\",\n",
       "      \"id\": \"file-Z90eibPrJp2s686QQvNm924T\",\n",
       "      \"object\": \"file\",\n",
       "      \"purpose\": \"fine-tune\",\n",
       "      \"status\": \"processed\",\n",
       "      \"status_details\": null\n",
       "    },\n",
       "    {\n",
       "      \"bytes\": 137575,\n",
       "      \"created_at\": 1687900154,\n",
       "      \"filename\": \"compiled_results.csv\",\n",
       "      \"id\": \"file-eCJNsoKIR2szqiLr8pjVMiyX\",\n",
       "      \"object\": \"file\",\n",
       "      \"purpose\": \"fine-tune-results\",\n",
       "      \"status\": \"processed\",\n",
       "      \"status_details\": null\n",
       "    },\n",
       "    {\n",
       "      \"bytes\": 174158,\n",
       "      \"created_at\": 1687816108,\n",
       "      \"filename\": \"compiled_results.csv\",\n",
       "      \"id\": \"file-nzSaFXkQTLyPCq46FyGu1zdL\",\n",
       "      \"object\": \"file\",\n",
       "      \"purpose\": \"fine-tune-results\",\n",
       "      \"status\": \"processed\",\n",
       "      \"status_details\": null\n",
       "    },\n",
       "    {\n",
       "      \"bytes\": 102931,\n",
       "      \"created_at\": 1688131457,\n",
       "      \"filename\": \"discriminator_train_prepared_valid.jsonl\",\n",
       "      \"id\": \"file-erEi2FUVULR9KmDxjfUOJv9F\",\n",
       "      \"object\": \"file\",\n",
       "      \"purpose\": \"fine-tune\",\n",
       "      \"status\": \"processed\",\n",
       "      \"status_details\": null\n",
       "    },\n",
       "    {\n",
       "      \"bytes\": 712870,\n",
       "      \"created_at\": 1687894546,\n",
       "      \"filename\": \"qa_train_prepared.jsonl\",\n",
       "      \"id\": \"file-eVLV2onKapTQU2mKpZ1wMPJa\",\n",
       "      \"object\": \"file\",\n",
       "      \"purpose\": \"fine-tune\",\n",
       "      \"status\": \"processed\",\n",
       "      \"status_details\": null\n",
       "    },\n",
       "    {\n",
       "      \"bytes\": 414027,\n",
       "      \"created_at\": 1688131454,\n",
       "      \"filename\": \"discriminator_train_prepared_train.jsonl\",\n",
       "      \"id\": \"file-rabgGyx7u37taUq9U7mxJxEs\",\n",
       "      \"object\": \"file\",\n",
       "      \"purpose\": \"fine-tune\",\n",
       "      \"status\": \"processed\",\n",
       "      \"status_details\": null\n",
       "    },\n",
       "    {\n",
       "      \"bytes\": 170634,\n",
       "      \"created_at\": 1692037391,\n",
       "      \"filename\": \"compiled_results.csv\",\n",
       "      \"id\": \"file-WPJQCPWyKmkiiSZQWJQHxGx9\",\n",
       "      \"object\": \"file\",\n",
       "      \"purpose\": \"fine-tune-results\",\n",
       "      \"status\": \"processed\",\n",
       "      \"status_details\": null\n",
       "    },\n",
       "    {\n",
       "      \"bytes\": 171082,\n",
       "      \"created_at\": 1692032239,\n",
       "      \"filename\": \"compiled_results.csv\",\n",
       "      \"id\": \"file-qg8dP9t6eD45kPFAsXkM4s21\",\n",
       "      \"object\": \"file\",\n",
       "      \"purpose\": \"fine-tune-results\",\n",
       "      \"status\": \"processed\",\n",
       "      \"status_details\": null\n",
       "    },\n",
       "    {\n",
       "      \"bytes\": 143935,\n",
       "      \"created_at\": 1692026421,\n",
       "      \"filename\": \"qadataset_prepared.jsonl\",\n",
       "      \"id\": \"file-DA1VdBos3YVYLTje1kLpU88q\",\n",
       "      \"object\": \"file\",\n",
       "      \"purpose\": \"fine-tune\",\n",
       "      \"status\": \"processed\",\n",
       "      \"status_details\": null\n",
       "    },\n",
       "    {\n",
       "      \"bytes\": 99346,\n",
       "      \"created_at\": 1692030984,\n",
       "      \"filename\": \"qadataset_prepared (1).jsonl\",\n",
       "      \"id\": \"file-MZZwR7A69yPjlEwaqLHxd1RB\",\n",
       "      \"object\": \"file\",\n",
       "      \"purpose\": \"fine-tune\",\n",
       "      \"status\": \"processed\",\n",
       "      \"status_details\": null\n",
       "    },\n",
       "    {\n",
       "      \"bytes\": 99346,\n",
       "      \"created_at\": 1692036038,\n",
       "      \"filename\": \"qadataset_prepared.jsonl\",\n",
       "      \"id\": \"file-Uo9Zn84ARrX3feAvicEpUrTl\",\n",
       "      \"object\": \"file\",\n",
       "      \"purpose\": \"fine-tune\",\n",
       "      \"status\": \"processed\",\n",
       "      \"status_details\": null\n",
       "    },\n",
       "    {\n",
       "      \"bytes\": 133320,\n",
       "      \"created_at\": 1692028332,\n",
       "      \"filename\": \"compiled_results.csv\",\n",
       "      \"id\": \"file-x4ETDzCTEnjPKYcA2fWfxlt1\",\n",
       "      \"object\": \"file\",\n",
       "      \"purpose\": \"fine-tune-results\",\n",
       "      \"status\": \"processed\",\n",
       "      \"status_details\": null\n",
       "    }\n",
       "  ],\n",
       "  \"object\": \"list\"\n",
       "}"
      ]
     },
     "execution_count": 54,
     "metadata": {},
     "output_type": "execute_result"
    }
   ],
   "source": [
    "#old\n",
    "#openai.File.list()"
   ]
  },
  {
   "cell_type": "code",
   "execution_count": 82,
   "metadata": {
    "colab": {
     "base_uri": "https://localhost:8080/"
    },
    "executionInfo": {
     "elapsed": 1081,
     "status": "ok",
     "timestamp": 1700846138799,
     "user": {
      "displayName": "Gunnar Kleemann",
      "userId": "02122813220075330457"
     },
     "user_tz": 360
    },
    "id": "eYw6-Ku4P3Ko",
    "outputId": "283594ae-f009-48bf-8973-ea002098b9db",
    "tags": []
   },
   "outputs": [
    {
     "name": "stdout",
     "output_type": "stream",
     "text": [
      "{\n",
      "  \"id\": \"text-search-babbage-doc-001\",\n",
      "  \"created\": 1651172509,\n",
      "  \"object\": \"model\",\n",
      "  \"owned_by\": \"openai-dev\"\n",
      "}\n",
      "{\n",
      "  \"id\": \"gpt-4\",\n",
      "  \"created\": 1687882411,\n",
      "  \"object\": \"model\",\n",
      "  \"owned_by\": \"openai\"\n",
      "}\n",
      "{\n",
      "  \"id\": \"curie-search-query\",\n",
      "  \"created\": 1651172509,\n",
      "  \"object\": \"model\",\n",
      "  \"owned_by\": \"openai-dev\"\n",
      "}\n",
      "{\n",
      "  \"id\": \"text-davinci-003\",\n",
      "  \"created\": 1669599635,\n",
      "  \"object\": \"model\",\n",
      "  \"owned_by\": \"openai-internal\"\n",
      "}\n",
      "{\n",
      "  \"id\": \"gpt-3.5-turbo-1106\",\n",
      "  \"created\": 1698959748,\n",
      "  \"object\": \"model\",\n",
      "  \"owned_by\": \"system\"\n",
      "}\n",
      "{\n",
      "  \"id\": \"text-search-babbage-query-001\",\n",
      "  \"created\": 1651172509,\n",
      "  \"object\": \"model\",\n",
      "  \"owned_by\": \"openai-dev\"\n",
      "}\n",
      "{\n",
      "  \"id\": \"babbage\",\n",
      "  \"created\": 1649358449,\n",
      "  \"object\": \"model\",\n",
      "  \"owned_by\": \"openai\"\n",
      "}\n",
      "{\n",
      "  \"id\": \"babbage-search-query\",\n",
      "  \"created\": 1651172509,\n",
      "  \"object\": \"model\",\n",
      "  \"owned_by\": \"openai-dev\"\n",
      "}\n",
      "{\n",
      "  \"id\": \"text-babbage-001\",\n",
      "  \"created\": 1649364043,\n",
      "  \"object\": \"model\",\n",
      "  \"owned_by\": \"openai\"\n",
      "}\n",
      "{\n",
      "  \"id\": \"text-similarity-davinci-001\",\n",
      "  \"created\": 1651172505,\n",
      "  \"object\": \"model\",\n",
      "  \"owned_by\": \"openai-dev\"\n",
      "}\n",
      "{\n",
      "  \"id\": \"davinci-similarity\",\n",
      "  \"created\": 1651172509,\n",
      "  \"object\": \"model\",\n",
      "  \"owned_by\": \"openai-dev\"\n",
      "}\n",
      "{\n",
      "  \"id\": \"code-davinci-edit-001\",\n",
      "  \"created\": 1649880484,\n",
      "  \"object\": \"model\",\n",
      "  \"owned_by\": \"openai\"\n",
      "}\n",
      "{\n",
      "  \"id\": \"curie-similarity\",\n",
      "  \"created\": 1651172510,\n",
      "  \"object\": \"model\",\n",
      "  \"owned_by\": \"openai-dev\"\n",
      "}\n",
      "{\n",
      "  \"id\": \"babbage-search-document\",\n",
      "  \"created\": 1651172510,\n",
      "  \"object\": \"model\",\n",
      "  \"owned_by\": \"openai-dev\"\n",
      "}\n",
      "{\n",
      "  \"id\": \"curie-instruct-beta\",\n",
      "  \"created\": 1649364042,\n",
      "  \"object\": \"model\",\n",
      "  \"owned_by\": \"openai\"\n",
      "}\n",
      "{\n",
      "  \"id\": \"text-search-ada-doc-001\",\n",
      "  \"created\": 1651172507,\n",
      "  \"object\": \"model\",\n",
      "  \"owned_by\": \"openai-dev\"\n",
      "}\n",
      "{\n",
      "  \"id\": \"davinci-instruct-beta\",\n",
      "  \"created\": 1649364042,\n",
      "  \"object\": \"model\",\n",
      "  \"owned_by\": \"openai\"\n",
      "}\n",
      "{\n",
      "  \"id\": \"text-similarity-babbage-001\",\n",
      "  \"created\": 1651172505,\n",
      "  \"object\": \"model\",\n",
      "  \"owned_by\": \"openai-dev\"\n",
      "}\n",
      "{\n",
      "  \"id\": \"text-search-davinci-doc-001\",\n",
      "  \"created\": 1651172505,\n",
      "  \"object\": \"model\",\n",
      "  \"owned_by\": \"openai-dev\"\n",
      "}\n",
      "{\n",
      "  \"id\": \"gpt-3.5-turbo-0613\",\n",
      "  \"created\": 1686587434,\n",
      "  \"object\": \"model\",\n",
      "  \"owned_by\": \"openai\"\n",
      "}\n",
      "{\n",
      "  \"id\": \"babbage-similarity\",\n",
      "  \"created\": 1651172505,\n",
      "  \"object\": \"model\",\n",
      "  \"owned_by\": \"openai-dev\"\n",
      "}\n",
      "{\n",
      "  \"id\": \"text-embedding-ada-002\",\n",
      "  \"created\": 1671217299,\n",
      "  \"object\": \"model\",\n",
      "  \"owned_by\": \"openai-internal\"\n",
      "}\n",
      "{\n",
      "  \"id\": \"davinci-search-query\",\n",
      "  \"created\": 1651172505,\n",
      "  \"object\": \"model\",\n",
      "  \"owned_by\": \"openai-dev\"\n",
      "}\n",
      "{\n",
      "  \"id\": \"text-similarity-curie-001\",\n",
      "  \"created\": 1651172507,\n",
      "  \"object\": \"model\",\n",
      "  \"owned_by\": \"openai-dev\"\n",
      "}\n",
      "{\n",
      "  \"id\": \"text-davinci-001\",\n",
      "  \"created\": 1649364042,\n",
      "  \"object\": \"model\",\n",
      "  \"owned_by\": \"openai\"\n",
      "}\n",
      "{\n",
      "  \"id\": \"text-search-davinci-query-001\",\n",
      "  \"created\": 1651172505,\n",
      "  \"object\": \"model\",\n",
      "  \"owned_by\": \"openai-dev\"\n",
      "}\n",
      "{\n",
      "  \"id\": \"gpt-3.5-turbo-16k-0613\",\n",
      "  \"created\": 1685474247,\n",
      "  \"object\": \"model\",\n",
      "  \"owned_by\": \"openai\"\n",
      "}\n",
      "{\n",
      "  \"id\": \"ada-search-document\",\n",
      "  \"created\": 1651172507,\n",
      "  \"object\": \"model\",\n",
      "  \"owned_by\": \"openai-dev\"\n",
      "}\n",
      "{\n",
      "  \"id\": \"ada-code-search-code\",\n",
      "  \"created\": 1651172505,\n",
      "  \"object\": \"model\",\n",
      "  \"owned_by\": \"openai-dev\"\n",
      "}\n",
      "{\n",
      "  \"id\": \"babbage-002\",\n",
      "  \"created\": 1692634615,\n",
      "  \"object\": \"model\",\n",
      "  \"owned_by\": \"system\"\n",
      "}\n",
      "{\n",
      "  \"id\": \"gpt-4-vision-preview\",\n",
      "  \"created\": 1698894917,\n",
      "  \"object\": \"model\",\n",
      "  \"owned_by\": \"system\"\n",
      "}\n",
      "{\n",
      "  \"id\": \"davinci-002\",\n",
      "  \"created\": 1692634301,\n",
      "  \"object\": \"model\",\n",
      "  \"owned_by\": \"system\"\n",
      "}\n",
      "{\n",
      "  \"id\": \"gpt-4-0314\",\n",
      "  \"created\": 1687882410,\n",
      "  \"object\": \"model\",\n",
      "  \"owned_by\": \"openai\"\n",
      "}\n",
      "{\n",
      "  \"id\": \"gpt-3.5-turbo\",\n",
      "  \"created\": 1677610602,\n",
      "  \"object\": \"model\",\n",
      "  \"owned_by\": \"openai\"\n",
      "}\n",
      "{\n",
      "  \"id\": \"davinci-search-document\",\n",
      "  \"created\": 1651172509,\n",
      "  \"object\": \"model\",\n",
      "  \"owned_by\": \"openai-dev\"\n",
      "}\n",
      "{\n",
      "  \"id\": \"curie-search-document\",\n",
      "  \"created\": 1651172508,\n",
      "  \"object\": \"model\",\n",
      "  \"owned_by\": \"openai-dev\"\n",
      "}\n",
      "{\n",
      "  \"id\": \"babbage-code-search-code\",\n",
      "  \"created\": 1651172509,\n",
      "  \"object\": \"model\",\n",
      "  \"owned_by\": \"openai-dev\"\n",
      "}\n",
      "{\n",
      "  \"id\": \"gpt-4-0613\",\n",
      "  \"created\": 1686588896,\n",
      "  \"object\": \"model\",\n",
      "  \"owned_by\": \"openai\"\n",
      "}\n",
      "{\n",
      "  \"id\": \"text-search-ada-query-001\",\n",
      "  \"created\": 1651172505,\n",
      "  \"object\": \"model\",\n",
      "  \"owned_by\": \"openai-dev\"\n",
      "}\n",
      "{\n",
      "  \"id\": \"code-search-ada-text-001\",\n",
      "  \"created\": 1651172507,\n",
      "  \"object\": \"model\",\n",
      "  \"owned_by\": \"openai-dev\"\n",
      "}\n",
      "{\n",
      "  \"id\": \"babbage-code-search-text\",\n",
      "  \"created\": 1651172509,\n",
      "  \"object\": \"model\",\n",
      "  \"owned_by\": \"openai-dev\"\n",
      "}\n",
      "{\n",
      "  \"id\": \"code-search-babbage-code-001\",\n",
      "  \"created\": 1651172507,\n",
      "  \"object\": \"model\",\n",
      "  \"owned_by\": \"openai-dev\"\n",
      "}\n",
      "{\n",
      "  \"id\": \"ada-search-query\",\n",
      "  \"created\": 1651172505,\n",
      "  \"object\": \"model\",\n",
      "  \"owned_by\": \"openai-dev\"\n",
      "}\n",
      "{\n",
      "  \"id\": \"ada-code-search-text\",\n",
      "  \"created\": 1651172510,\n",
      "  \"object\": \"model\",\n",
      "  \"owned_by\": \"openai-dev\"\n",
      "}\n",
      "{\n",
      "  \"id\": \"dall-e-3\",\n",
      "  \"created\": 1698785189,\n",
      "  \"object\": \"model\",\n",
      "  \"owned_by\": \"system\"\n",
      "}\n",
      "{\n",
      "  \"id\": \"tts-1-hd\",\n",
      "  \"created\": 1699046015,\n",
      "  \"object\": \"model\",\n",
      "  \"owned_by\": \"system\"\n",
      "}\n",
      "{\n",
      "  \"id\": \"text-search-curie-query-001\",\n",
      "  \"created\": 1651172509,\n",
      "  \"object\": \"model\",\n",
      "  \"owned_by\": \"openai-dev\"\n",
      "}\n",
      "{\n",
      "  \"id\": \"text-davinci-002\",\n",
      "  \"created\": 1649880484,\n",
      "  \"object\": \"model\",\n",
      "  \"owned_by\": \"openai\"\n",
      "}\n",
      "{\n",
      "  \"id\": \"text-davinci-edit-001\",\n",
      "  \"created\": 1649809179,\n",
      "  \"object\": \"model\",\n",
      "  \"owned_by\": \"openai\"\n",
      "}\n",
      "{\n",
      "  \"id\": \"code-search-babbage-text-001\",\n",
      "  \"created\": 1651172507,\n",
      "  \"object\": \"model\",\n",
      "  \"owned_by\": \"openai-dev\"\n",
      "}\n",
      "{\n",
      "  \"id\": \"ada\",\n",
      "  \"created\": 1649357491,\n",
      "  \"object\": \"model\",\n",
      "  \"owned_by\": \"openai\"\n",
      "}\n",
      "{\n",
      "  \"id\": \"text-ada-001\",\n",
      "  \"created\": 1649364042,\n",
      "  \"object\": \"model\",\n",
      "  \"owned_by\": \"openai\"\n",
      "}\n",
      "{\n",
      "  \"id\": \"ada-similarity\",\n",
      "  \"created\": 1651172507,\n",
      "  \"object\": \"model\",\n",
      "  \"owned_by\": \"openai-dev\"\n",
      "}\n",
      "{\n",
      "  \"id\": \"code-search-ada-code-001\",\n",
      "  \"created\": 1651172507,\n",
      "  \"object\": \"model\",\n",
      "  \"owned_by\": \"openai-dev\"\n",
      "}\n",
      "{\n",
      "  \"id\": \"gpt-3.5-turbo-instruct\",\n",
      "  \"created\": 1692901427,\n",
      "  \"object\": \"model\",\n",
      "  \"owned_by\": \"system\"\n",
      "}\n",
      "{\n",
      "  \"id\": \"text-similarity-ada-001\",\n",
      "  \"created\": 1651172505,\n",
      "  \"object\": \"model\",\n",
      "  \"owned_by\": \"openai-dev\"\n",
      "}\n",
      "{\n",
      "  \"id\": \"gpt-3.5-turbo-instruct-0914\",\n",
      "  \"created\": 1694122472,\n",
      "  \"object\": \"model\",\n",
      "  \"owned_by\": \"system\"\n",
      "}\n",
      "{\n",
      "  \"id\": \"text-search-curie-doc-001\",\n",
      "  \"created\": 1651172509,\n",
      "  \"object\": \"model\",\n",
      "  \"owned_by\": \"openai-dev\"\n",
      "}\n",
      "{\n",
      "  \"id\": \"gpt-3.5-turbo-16k\",\n",
      "  \"created\": 1683758102,\n",
      "  \"object\": \"model\",\n",
      "  \"owned_by\": \"openai-internal\"\n",
      "}\n",
      "{\n",
      "  \"id\": \"text-curie-001\",\n",
      "  \"created\": 1649364043,\n",
      "  \"object\": \"model\",\n",
      "  \"owned_by\": \"openai\"\n",
      "}\n",
      "{\n",
      "  \"id\": \"curie\",\n",
      "  \"created\": 1649359874,\n",
      "  \"object\": \"model\",\n",
      "  \"owned_by\": \"openai\"\n",
      "}\n",
      "{\n",
      "  \"id\": \"tts-1\",\n",
      "  \"created\": 1681940951,\n",
      "  \"object\": \"model\",\n",
      "  \"owned_by\": \"openai-internal\"\n",
      "}\n",
      "{\n",
      "  \"id\": \"whisper-1\",\n",
      "  \"created\": 1677532384,\n",
      "  \"object\": \"model\",\n",
      "  \"owned_by\": \"openai-internal\"\n",
      "}\n",
      "{\n",
      "  \"id\": \"gpt-4-1106-preview\",\n",
      "  \"created\": 1698957206,\n",
      "  \"object\": \"model\",\n",
      "  \"owned_by\": \"system\"\n",
      "}\n",
      "{\n",
      "  \"id\": \"davinci\",\n",
      "  \"created\": 1649359874,\n",
      "  \"object\": \"model\",\n",
      "  \"owned_by\": \"openai\"\n",
      "}\n",
      "{\n",
      "  \"id\": \"dall-e-2\",\n",
      "  \"created\": 1698798177,\n",
      "  \"object\": \"model\",\n",
      "  \"owned_by\": \"system\"\n",
      "}\n",
      "{\n",
      "  \"id\": \"tts-1-1106\",\n",
      "  \"created\": 1699053241,\n",
      "  \"object\": \"model\",\n",
      "  \"owned_by\": \"system\"\n",
      "}\n",
      "{\n",
      "  \"id\": \"gpt-3.5-turbo-0301\",\n",
      "  \"created\": 1677649963,\n",
      "  \"object\": \"model\",\n",
      "  \"owned_by\": \"openai\"\n",
      "}\n",
      "{\n",
      "  \"id\": \"tts-1-hd-1106\",\n",
      "  \"created\": 1699053533,\n",
      "  \"object\": \"model\",\n",
      "  \"owned_by\": \"system\"\n",
      "}\n",
      "{\n",
      "  \"id\": \"curie:ft-austincapitaldata-2023-11-21-20-51-08\",\n",
      "  \"created\": 1700599868,\n",
      "  \"object\": \"model\",\n",
      "  \"owned_by\": \"austincapitaldata\"\n",
      "}\n",
      "{\n",
      "  \"id\": \"curie:ft-austincapitaldata-2023-11-21-20-52-33\",\n",
      "  \"created\": 1700599953,\n",
      "  \"object\": \"model\",\n",
      "  \"owned_by\": \"austincapitaldata\"\n",
      "}\n",
      "{\n",
      "  \"id\": \"curie:ft-austincapitaldata-2023-11-21-20-54-01\",\n",
      "  \"created\": 1700600042,\n",
      "  \"object\": \"model\",\n",
      "  \"owned_by\": \"austincapitaldata\"\n",
      "}\n",
      "{\n",
      "  \"id\": \"curie:ft-austincapitaldata-2023-11-21-20-55-26\",\n",
      "  \"created\": 1700600126,\n",
      "  \"object\": \"model\",\n",
      "  \"owned_by\": \"austincapitaldata\"\n",
      "}\n",
      "{\n",
      "  \"id\": \"curie:ft-austincapitaldata-2023-11-21-20-49-44\",\n",
      "  \"created\": 1700599784,\n",
      "  \"object\": \"model\",\n",
      "  \"owned_by\": \"austincapitaldata\"\n",
      "}\n",
      "{\n",
      "  \"id\": \"davinci:ft-austincapitaldata-2023-11-23-21-39-17\",\n",
      "  \"created\": 1700775557,\n",
      "  \"object\": \"model\",\n",
      "  \"owned_by\": \"austincapitaldata\"\n",
      "}\n",
      "{\n",
      "  \"id\": \"davinci:ft-austincapitaldata-2023-11-23-20-32-28\",\n",
      "  \"created\": 1700771548,\n",
      "  \"object\": \"model\",\n",
      "  \"owned_by\": \"austincapitaldata\"\n",
      "}\n",
      "{\n",
      "  \"id\": \"curie:ft-austincapitaldata-2023-11-22-15-05-35\",\n",
      "  \"created\": 1700665536,\n",
      "  \"object\": \"model\",\n",
      "  \"owned_by\": \"austincapitaldata\"\n",
      "}\n",
      "{\n",
      "  \"id\": \"ada:ft-austincapitaldata-2023-11-22-15-43-10\",\n",
      "  \"created\": 1700667790,\n",
      "  \"object\": \"model\",\n",
      "  \"owned_by\": \"austincapitaldata\"\n",
      "}\n",
      "{\n",
      "  \"id\": \"ada:ft-austincapitaldata-2023-11-22-15-43-54\",\n",
      "  \"created\": 1700667834,\n",
      "  \"object\": \"model\",\n",
      "  \"owned_by\": \"austincapitaldata\"\n",
      "}\n",
      "{\n",
      "  \"id\": \"davinci:ft-austincapitaldata-2023-11-24-06-53-30\",\n",
      "  \"created\": 1700808810,\n",
      "  \"object\": \"model\",\n",
      "  \"owned_by\": \"austincapitaldata\"\n",
      "}\n",
      "{\n",
      "  \"id\": \"davinci:ft-austincapitaldata-2023-11-23-00-10-28\",\n",
      "  \"created\": 1700698228,\n",
      "  \"object\": \"model\",\n",
      "  \"owned_by\": \"austincapitaldata\"\n",
      "}\n",
      "{\n",
      "  \"id\": \"davinci:ft-austincapitaldata-2023-11-23-22-46-05\",\n",
      "  \"created\": 1700779565,\n",
      "  \"object\": \"model\",\n",
      "  \"owned_by\": \"austincapitaldata\"\n",
      "}\n",
      "{\n",
      "  \"id\": \"davinci:ft-austincapitaldata-2023-11-24-02-06-22\",\n",
      "  \"created\": 1700791583,\n",
      "  \"object\": \"model\",\n",
      "  \"owned_by\": \"austincapitaldata\"\n",
      "}\n",
      "{\n",
      "  \"id\": \"davinci:ft-austincapitaldata-2023-11-23-23-52-52\",\n",
      "  \"created\": 1700783573,\n",
      "  \"object\": \"model\",\n",
      "  \"owned_by\": \"austincapitaldata\"\n",
      "}\n",
      "{\n",
      "  \"id\": \"davinci:ft-austincapitaldata-2023-11-24-00-59-40\",\n",
      "  \"created\": 1700787581,\n",
      "  \"object\": \"model\",\n",
      "  \"owned_by\": \"austincapitaldata\"\n",
      "}\n",
      "{\n",
      "  \"id\": \"curie:ft-austincapitaldata-2023-11-30-21-50-37\",\n",
      "  \"created\": 1701381037,\n",
      "  \"object\": \"model\",\n",
      "  \"owned_by\": \"austincapitaldata\"\n",
      "}\n",
      "{\n",
      "  \"id\": \"curie:ft-austincapitaldata-2023-11-30-21-54-27\",\n",
      "  \"created\": 1701381267,\n",
      "  \"object\": \"model\",\n",
      "  \"owned_by\": \"austincapitaldata\"\n",
      "}\n",
      "{\n",
      "  \"id\": \"ada:ft-austincapitaldata-2023-12-01-05-53-54\",\n",
      "  \"created\": 1701410034,\n",
      "  \"object\": \"model\",\n",
      "  \"owned_by\": \"austincapitaldata\"\n",
      "}\n"
     ]
    }
   ],
   "source": [
    "#!openai -k {api_key} api fine_tunes.list\n",
    "!openai -k {api_key} api models.list"
   ]
  },
  {
   "cell_type": "markdown",
   "metadata": {
    "id": "KiogYTo_Uk3Z"
   },
   "source": [
    "4. Analyze results of your fine-tuning job. Can you identify domains where your fine-tuned model is better than commercially available ones?"
   ]
  },
  {
   "cell_type": "code",
   "execution_count": null,
   "metadata": {
    "id": "yw7KJpHrUk3a"
   },
   "outputs": [],
   "source": [
    "#downloading performance result\n",
    "#!openai -k \"API_Key\" api fine_tunes.results -i ft-J4tRTQVdwGeU7E9l6PXSRC8G> compiled_results.csv"
   ]
  },
  {
   "cell_type": "code",
   "execution_count": null,
   "metadata": {
    "id": "ETlo6j_3P3Ko",
    "outputId": "5471ed82-347c-40ec-b4d9-2aec6c0f22e4"
   },
   "outputs": [
    {
     "name": "stdout",
     "output_type": "stream",
     "text": [
      "Upload progress: 100%|████████████████████| 99.3k/99.3k [00:00<00:00, 57.7Mit/s]\n",
      "Uploaded file from qadataset_prepared (1).jsonl: file-MZZwR7A69yPjlEwaqLHxd1RB\n",
      "Created fine-tune: ft-290p4cNK30iOehVB9dEKG00h\n",
      "Streaming events until fine-tuning is complete...\n",
      "\n",
      "(Ctrl-C will interrupt the stream, but not cancel the fine-tune)\n",
      "[2023-08-14 11:36:24] Created fine-tune: ft-290p4cNK30iOehVB9dEKG00h\n",
      "[2023-08-14 11:36:40] Fine-tune costs $2.00\n",
      "[2023-08-14 11:36:40] Fine-tune enqueued. Queue number: 0\n",
      "[2023-08-14 11:36:43] Fine-tune started\n",
      "\n"
     ]
    }
   ],
   "source": [
    "#!openai -k \"API_Key\" api fine_tunes.create -t \"qadataset_prepared (1).jsonl\" -m davinci"
   ]
  },
  {
   "cell_type": "code",
   "execution_count": 80,
   "metadata": {
    "colab": {
     "base_uri": "https://localhost:8080/",
     "height": 35
    },
    "executionInfo": {
     "elapsed": 883,
     "status": "ok",
     "timestamp": 1700847109418,
     "user": {
      "displayName": "Gunnar Kleemann",
      "userId": "02122813220075330457"
     },
     "user_tz": 360
    },
    "id": "J75VI0biP3Ko",
    "outputId": "c9d9a4bf-100e-4665-8bcd-c33a34806f9e",
    "tags": []
   },
   "outputs": [
    {
     "data": {
      "text/plain": [
       "' 1832'"
      ]
     },
     "execution_count": 80,
     "metadata": {},
     "output_type": "execute_result"
    }
   ],
   "source": [
    "prompt =\"When did Lincoln begin his political career? ->\"\n",
    "\n",
    "## old\n",
    "#result = openai.Completion.create(model=\"davinci:ft-acd-2023-08-15-15-53-30\", prompt=prompt, max_tokens=30, temperature=0, top_p=1, n=1, stop=['.','\\n'])\n",
    "#result['choices']\n",
    "\n",
    "## hardcoded model ID\n",
    "new_model=\"davinci:ft-austincapitaldata-2023-11-24-00-59-40\"\n",
    "\n",
    "result = client.completions.create(model=new_model, prompt=prompt,\n",
    "                                  max_tokens=30, temperature=0,\n",
    "                                  top_p=1, n=1, stop=['.','\\n'])\n",
    "result.choices[0].text\n"
   ]
  },
  {
   "cell_type": "code",
   "execution_count": 56,
   "metadata": {
    "colab": {
     "base_uri": "https://localhost:8080/",
     "height": 35
    },
    "executionInfo": {
     "elapsed": 793,
     "status": "ok",
     "timestamp": 1700846570242,
     "user": {
      "displayName": "Gunnar Kleemann",
      "userId": "02122813220075330457"
     },
     "user_tz": 360
    },
    "id": "4yzZEZsqP3Kp",
    "outputId": "67268bb9-9a94-4f77-d80a-647d8fbdcd41",
    "tags": []
   },
   "outputs": [
    {
     "data": {
      "text/plain": [
       "': Lincoln began his political career in 1832'"
      ]
     },
     "execution_count": 56,
     "metadata": {},
     "output_type": "execute_result"
    }
   ],
   "source": [
    "prompt =\"When did Lincoln begin his political career?\\nAnswer\"\n",
    "\n",
    "#result = openai.Completion.create(model=\"text-davinci-003\", prompt=prompt, max_tokens=30, temperature=0, top_p=1, n=1, stop=['.','\\n'])\n",
    "#result['choices']\n",
    "result = client.completions.create(model=\"text-davinci-003\", prompt=prompt,\n",
    "                                  max_tokens=30, temperature=0,\n",
    "                                  top_p=1, n=1, stop=['.','\\n'])\n",
    "result.choices[0].text\n",
    "\n"
   ]
  },
  {
   "cell_type": "code",
   "execution_count": 57,
   "metadata": {
    "id": "zMZQfpKaZmvj",
    "tags": []
   },
   "outputs": [],
   "source": [
    "## lets write a function\n",
    "def newoldcompare(new_model, old_model, prompt):\n",
    "  result = client.completions.create(model=new_model, prompt=f'{prompt} ->',\n",
    "                                    max_tokens=30, temperature=0,\n",
    "                                    top_p=1, n=1, stop=['.','\\n'])\n",
    "  print(f'New model {new_model},\\n Prompt:{prompt} \\n Response: {result.choices[0].text}\\n\\n\\n')\n",
    "\n",
    "\n",
    "  result = client.completions.create(model=old_model, prompt=f'{prompt}\\nAnswer',\n",
    "                                  max_tokens=30, temperature=0,\n",
    "                                  top_p=1, n=1, stop=['.','\\n'])\n",
    "  print(f'old model {old_model},\\n Prompt:{prompt} \\n Response: {result.choices[0].text}')\n"
   ]
  },
  {
   "cell_type": "markdown",
   "metadata": {
    "id": "xbculBCUZmh_"
   },
   "source": []
  },
  {
   "cell_type": "code",
   "execution_count": 58,
   "metadata": {
    "colab": {
     "base_uri": "https://localhost:8080/"
    },
    "executionInfo": {
     "elapsed": 973,
     "status": "ok",
     "timestamp": 1700847723475,
     "user": {
      "displayName": "Gunnar Kleemann",
      "userId": "02122813220075330457"
     },
     "user_tz": 360
    },
    "id": "8rPpQvR_P3Kp",
    "outputId": "4fd1e8f9-8e5f-46eb-9015-4a7ca338d5a6",
    "tags": []
   },
   "outputs": [
    {
     "name": "stdout",
     "output_type": "stream",
     "text": [
      "New model davinci:ft-austincapitaldata-2023-11-24-00-59-40,\n",
      " Prompt:Who was the first to perform and publish careful experiments aiming at the definition of an international temperature scale on scientific grounds ? -> \n",
      " Response:  Anders Celsius\n",
      "\n",
      "\n",
      "\n",
      "old model text-davinci-003,\n",
      " Prompt:Who was the first to perform and publish careful experiments aiming at the definition of an international temperature scale on scientific grounds ? -> \n",
      " Response: : Anders Celsius\n"
     ]
    }
   ],
   "source": [
    "old_model=\"text-davinci-003\"\n",
    "new_model=\"davinci:ft-austincapitaldata-2023-11-24-00-59-40\"\n",
    "prompt =\"Who was the first to perform and publish careful experiments aiming at the definition of an international temperature scale on scientific grounds ? ->\"\n",
    "\n",
    "newoldcompare(new_model, old_model, prompt)\n",
    "\n"
   ]
  },
  {
   "cell_type": "code",
   "execution_count": 59,
   "metadata": {
    "colab": {
     "base_uri": "https://localhost:8080/"
    },
    "executionInfo": {
     "elapsed": 2685,
     "status": "ok",
     "timestamp": 1700847751475,
     "user": {
      "displayName": "Gunnar Kleemann",
      "userId": "02122813220075330457"
     },
     "user_tz": 360
    },
    "id": "L5X83hlXP3Kp",
    "outputId": "7bd234ae-8442-4bb0-e8ce-2ab69fc344db",
    "tags": []
   },
   "outputs": [
    {
     "name": "stdout",
     "output_type": "stream",
     "text": [
      "New model davinci:ft-austincapitaldata-2023-11-24-00-59-40,\n",
      " Prompt:What do beetles eat? \n",
      " Response:  mainly dung or carrion or meat or plants or seeds or fruit or honey or ants or other insects\n",
      "\n",
      "\n",
      "\n",
      "old model text-davinci-003,\n",
      " Prompt:What do beetles eat? \n",
      " Response: : Beetles eat a variety of things, including plants, fungi, other insects, and even carrion\n"
     ]
    }
   ],
   "source": [
    "\n",
    "prompt=\"What do beetles eat?\"\n",
    "newoldcompare(new_model, old_model, prompt)\n"
   ]
  },
  {
   "cell_type": "code",
   "execution_count": 60,
   "metadata": {
    "colab": {
     "base_uri": "https://localhost:8080/"
    },
    "executionInfo": {
     "elapsed": 976,
     "status": "ok",
     "timestamp": 1700847855697,
     "user": {
      "displayName": "Gunnar Kleemann",
      "userId": "02122813220075330457"
     },
     "user_tz": 360
    },
    "id": "WPeg1oYrbZbu",
    "outputId": "0240179c-7aef-452b-ab64-9f1a714a52cd",
    "tags": []
   },
   "outputs": [
    {
     "name": "stdout",
     "output_type": "stream",
     "text": [
      "New model davinci:ft-austincapitaldata-2023-11-24-00-59-40,\n",
      " Prompt:What are the similarities between beetles and grasshoppers? \n",
      " Response:  mouthparts\n",
      "\n",
      "\n",
      "\n",
      "old model text-davinci-003,\n",
      " Prompt:What are the similarities between beetles and grasshoppers? \n",
      " Response: :\n"
     ]
    }
   ],
   "source": [
    "prompt=\"What are the similarities between beetles and grasshoppers?\"\n",
    "newoldcompare(new_model, old_model, prompt)"
   ]
  },
  {
   "cell_type": "code",
   "execution_count": 62,
   "metadata": {
    "id": "TKmN_YqEP3Kq",
    "tags": []
   },
   "outputs": [
    {
     "name": "stdout",
     "output_type": "stream",
     "text": [
      "usage: openai api [-h]\n",
      "                  {chat.completions.create,images.generate,images.edit,images.create_variation,audio.transcriptions.create,audio.translations.create,files.create,files.retrieve,files.delete,files.list,models.list,models.retrieve,models.delete,completions.create}\n",
      "                  ...\n",
      "openai api: error: argument {chat.completions.create,images.generate,images.edit,images.create_variation,audio.transcriptions.create,audio.translations.create,files.create,files.retrieve,files.delete,files.list,models.list,models.retrieve,models.delete,completions.create}: invalid choice: 'fine_tunes.results' (choose from 'chat.completions.create', 'images.generate', 'images.edit', 'images.create_variation', 'audio.transcriptions.create', 'audio.translations.create', 'files.create', 'files.retrieve', 'files.delete', 'files.list', 'models.list', 'models.retrieve', 'models.delete', 'completions.create')\n"
     ]
    }
   ],
   "source": [
    "#### ? where are these reports derived from what do they show. Ask Kriti for more clarification from here donwn.\n",
    "#downloading performance result\n",
    "!openai -k \"API_Key\" api fine_tunes.results -i ft-290p4cNK30iOehVB9dEKG00h > compiled_results.csv"
   ]
  },
  {
   "cell_type": "code",
   "execution_count": null,
   "metadata": {
    "id": "yvFc4j0jP3Kq",
    "outputId": "9e713a6a-9d3b-4277-bd27-66a0a882c7cd"
   },
   "outputs": [
    {
     "data": {
      "text/html": [
       "<div>\n",
       "<style scoped>\n",
       "    .dataframe tbody tr th:only-of-type {\n",
       "        vertical-align: middle;\n",
       "    }\n",
       "\n",
       "    .dataframe tbody tr th {\n",
       "        vertical-align: top;\n",
       "    }\n",
       "\n",
       "    .dataframe thead th {\n",
       "        text-align: right;\n",
       "    }\n",
       "</style>\n",
       "<table border=\"1\" class=\"dataframe\">\n",
       "  <thead>\n",
       "    <tr style=\"text-align: right;\">\n",
       "      <th></th>\n",
       "      <th>step</th>\n",
       "      <th>elapsed_tokens</th>\n",
       "      <th>elapsed_examples</th>\n",
       "      <th>training_loss</th>\n",
       "      <th>training_sequence_accuracy</th>\n",
       "      <th>training_token_accuracy</th>\n",
       "    </tr>\n",
       "  </thead>\n",
       "  <tbody>\n",
       "    <tr>\n",
       "      <th>0</th>\n",
       "      <td>1</td>\n",
       "      <td>33</td>\n",
       "      <td>1</td>\n",
       "      <td>0.990739</td>\n",
       "      <td>0.0</td>\n",
       "      <td>0.600000</td>\n",
       "    </tr>\n",
       "    <tr>\n",
       "      <th>1</th>\n",
       "      <td>2</td>\n",
       "      <td>50</td>\n",
       "      <td>2</td>\n",
       "      <td>0.367833</td>\n",
       "      <td>0.0</td>\n",
       "      <td>0.750000</td>\n",
       "    </tr>\n",
       "    <tr>\n",
       "      <th>2</th>\n",
       "      <td>3</td>\n",
       "      <td>75</td>\n",
       "      <td>3</td>\n",
       "      <td>1.597335</td>\n",
       "      <td>0.0</td>\n",
       "      <td>0.285714</td>\n",
       "    </tr>\n",
       "    <tr>\n",
       "      <th>3</th>\n",
       "      <td>4</td>\n",
       "      <td>92</td>\n",
       "      <td>4</td>\n",
       "      <td>0.631249</td>\n",
       "      <td>0.0</td>\n",
       "      <td>0.400000</td>\n",
       "    </tr>\n",
       "    <tr>\n",
       "      <th>4</th>\n",
       "      <td>5</td>\n",
       "      <td>117</td>\n",
       "      <td>5</td>\n",
       "      <td>1.975725</td>\n",
       "      <td>0.0</td>\n",
       "      <td>0.333333</td>\n",
       "    </tr>\n",
       "  </tbody>\n",
       "</table>\n",
       "</div>"
      ],
      "text/plain": [
       "   step  elapsed_tokens  elapsed_examples  training_loss  \\\n",
       "0     1              33                 1       0.990739   \n",
       "1     2              50                 2       0.367833   \n",
       "2     3              75                 3       1.597335   \n",
       "3     4              92                 4       0.631249   \n",
       "4     5             117                 5       1.975725   \n",
       "\n",
       "   training_sequence_accuracy  training_token_accuracy  \n",
       "0                         0.0                 0.600000  \n",
       "1                         0.0                 0.750000  \n",
       "2                         0.0                 0.285714  \n",
       "3                         0.0                 0.400000  \n",
       "4                         0.0                 0.333333  "
      ]
     },
     "execution_count": 31,
     "metadata": {},
     "output_type": "execute_result"
    }
   ],
   "source": [
    "results = pd.read_csv('compiled_results.csv')\n",
    "results.head()"
   ]
  },
  {
   "cell_type": "code",
   "execution_count": null,
   "metadata": {
    "id": "SrbOTqXGP3Kq"
   },
   "outputs": [],
   "source": [
    "#downloading performance result\n",
    "!openai -k \"API_Key\" api fine_tunes.results -i ft-J4tRTQVdwGeU7E9l6PXSRC8G > compiled_results.csv"
   ]
  },
  {
   "cell_type": "code",
   "execution_count": null,
   "metadata": {
    "id": "uDrRF5eiP3Kq",
    "outputId": "ca150553-d641-437e-8f02-c25db7b884c2"
   },
   "outputs": [
    {
     "data": {
      "text/html": [
       "<div>\n",
       "<style scoped>\n",
       "    .dataframe tbody tr th:only-of-type {\n",
       "        vertical-align: middle;\n",
       "    }\n",
       "\n",
       "    .dataframe tbody tr th {\n",
       "        vertical-align: top;\n",
       "    }\n",
       "\n",
       "    .dataframe thead th {\n",
       "        text-align: right;\n",
       "    }\n",
       "</style>\n",
       "<table border=\"1\" class=\"dataframe\">\n",
       "  <thead>\n",
       "    <tr style=\"text-align: right;\">\n",
       "      <th></th>\n",
       "      <th>step</th>\n",
       "      <th>elapsed_tokens</th>\n",
       "      <th>elapsed_examples</th>\n",
       "      <th>training_loss</th>\n",
       "      <th>training_sequence_accuracy</th>\n",
       "      <th>training_token_accuracy</th>\n",
       "    </tr>\n",
       "  </thead>\n",
       "  <tbody>\n",
       "    <tr>\n",
       "      <th>0</th>\n",
       "      <td>1</td>\n",
       "      <td>34</td>\n",
       "      <td>2</td>\n",
       "      <td>0.497889</td>\n",
       "      <td>0.5</td>\n",
       "      <td>0.500000</td>\n",
       "    </tr>\n",
       "    <tr>\n",
       "      <th>1</th>\n",
       "      <td>2</td>\n",
       "      <td>100</td>\n",
       "      <td>4</td>\n",
       "      <td>0.720423</td>\n",
       "      <td>0.0</td>\n",
       "      <td>0.538462</td>\n",
       "    </tr>\n",
       "    <tr>\n",
       "      <th>2</th>\n",
       "      <td>3</td>\n",
       "      <td>134</td>\n",
       "      <td>6</td>\n",
       "      <td>0.567952</td>\n",
       "      <td>0.0</td>\n",
       "      <td>0.571429</td>\n",
       "    </tr>\n",
       "    <tr>\n",
       "      <th>3</th>\n",
       "      <td>4</td>\n",
       "      <td>168</td>\n",
       "      <td>8</td>\n",
       "      <td>0.332090</td>\n",
       "      <td>0.0</td>\n",
       "      <td>0.600000</td>\n",
       "    </tr>\n",
       "    <tr>\n",
       "      <th>4</th>\n",
       "      <td>5</td>\n",
       "      <td>202</td>\n",
       "      <td>10</td>\n",
       "      <td>0.495402</td>\n",
       "      <td>0.0</td>\n",
       "      <td>0.500000</td>\n",
       "    </tr>\n",
       "  </tbody>\n",
       "</table>\n",
       "</div>"
      ],
      "text/plain": [
       "   step  elapsed_tokens  elapsed_examples  training_loss  \\\n",
       "0     1              34                 2       0.497889   \n",
       "1     2             100                 4       0.720423   \n",
       "2     3             134                 6       0.567952   \n",
       "3     4             168                 8       0.332090   \n",
       "4     5             202                10       0.495402   \n",
       "\n",
       "   training_sequence_accuracy  training_token_accuracy  \n",
       "0                         0.5                 0.500000  \n",
       "1                         0.0                 0.538462  \n",
       "2                         0.0                 0.571429  \n",
       "3                         0.0                 0.600000  \n",
       "4                         0.0                 0.500000  "
      ]
     },
     "execution_count": 58,
     "metadata": {},
     "output_type": "execute_result"
    }
   ],
   "source": [
    "results_c = pd.read_csv('compiled_results.csv')\n",
    "results_c.head()"
   ]
  },
  {
   "cell_type": "code",
   "execution_count": null,
   "metadata": {
    "id": "lYrsS54nP3Kq"
   },
   "outputs": [],
   "source": []
  }
 ],
 "metadata": {
  "availableInstances": [
   {
    "_defaultOrder": 0,
    "_isFastLaunch": true,
    "category": "General purpose",
    "gpuNum": 0,
    "hideHardwareSpecs": false,
    "memoryGiB": 4,
    "name": "ml.t3.medium",
    "vcpuNum": 2
   },
   {
    "_defaultOrder": 1,
    "_isFastLaunch": false,
    "category": "General purpose",
    "gpuNum": 0,
    "hideHardwareSpecs": false,
    "memoryGiB": 8,
    "name": "ml.t3.large",
    "vcpuNum": 2
   },
   {
    "_defaultOrder": 2,
    "_isFastLaunch": false,
    "category": "General purpose",
    "gpuNum": 0,
    "hideHardwareSpecs": false,
    "memoryGiB": 16,
    "name": "ml.t3.xlarge",
    "vcpuNum": 4
   },
   {
    "_defaultOrder": 3,
    "_isFastLaunch": false,
    "category": "General purpose",
    "gpuNum": 0,
    "hideHardwareSpecs": false,
    "memoryGiB": 32,
    "name": "ml.t3.2xlarge",
    "vcpuNum": 8
   },
   {
    "_defaultOrder": 4,
    "_isFastLaunch": true,
    "category": "General purpose",
    "gpuNum": 0,
    "hideHardwareSpecs": false,
    "memoryGiB": 8,
    "name": "ml.m5.large",
    "vcpuNum": 2
   },
   {
    "_defaultOrder": 5,
    "_isFastLaunch": false,
    "category": "General purpose",
    "gpuNum": 0,
    "hideHardwareSpecs": false,
    "memoryGiB": 16,
    "name": "ml.m5.xlarge",
    "vcpuNum": 4
   },
   {
    "_defaultOrder": 6,
    "_isFastLaunch": false,
    "category": "General purpose",
    "gpuNum": 0,
    "hideHardwareSpecs": false,
    "memoryGiB": 32,
    "name": "ml.m5.2xlarge",
    "vcpuNum": 8
   },
   {
    "_defaultOrder": 7,
    "_isFastLaunch": false,
    "category": "General purpose",
    "gpuNum": 0,
    "hideHardwareSpecs": false,
    "memoryGiB": 64,
    "name": "ml.m5.4xlarge",
    "vcpuNum": 16
   },
   {
    "_defaultOrder": 8,
    "_isFastLaunch": false,
    "category": "General purpose",
    "gpuNum": 0,
    "hideHardwareSpecs": false,
    "memoryGiB": 128,
    "name": "ml.m5.8xlarge",
    "vcpuNum": 32
   },
   {
    "_defaultOrder": 9,
    "_isFastLaunch": false,
    "category": "General purpose",
    "gpuNum": 0,
    "hideHardwareSpecs": false,
    "memoryGiB": 192,
    "name": "ml.m5.12xlarge",
    "vcpuNum": 48
   },
   {
    "_defaultOrder": 10,
    "_isFastLaunch": false,
    "category": "General purpose",
    "gpuNum": 0,
    "hideHardwareSpecs": false,
    "memoryGiB": 256,
    "name": "ml.m5.16xlarge",
    "vcpuNum": 64
   },
   {
    "_defaultOrder": 11,
    "_isFastLaunch": false,
    "category": "General purpose",
    "gpuNum": 0,
    "hideHardwareSpecs": false,
    "memoryGiB": 384,
    "name": "ml.m5.24xlarge",
    "vcpuNum": 96
   },
   {
    "_defaultOrder": 12,
    "_isFastLaunch": false,
    "category": "General purpose",
    "gpuNum": 0,
    "hideHardwareSpecs": false,
    "memoryGiB": 8,
    "name": "ml.m5d.large",
    "vcpuNum": 2
   },
   {
    "_defaultOrder": 13,
    "_isFastLaunch": false,
    "category": "General purpose",
    "gpuNum": 0,
    "hideHardwareSpecs": false,
    "memoryGiB": 16,
    "name": "ml.m5d.xlarge",
    "vcpuNum": 4
   },
   {
    "_defaultOrder": 14,
    "_isFastLaunch": false,
    "category": "General purpose",
    "gpuNum": 0,
    "hideHardwareSpecs": false,
    "memoryGiB": 32,
    "name": "ml.m5d.2xlarge",
    "vcpuNum": 8
   },
   {
    "_defaultOrder": 15,
    "_isFastLaunch": false,
    "category": "General purpose",
    "gpuNum": 0,
    "hideHardwareSpecs": false,
    "memoryGiB": 64,
    "name": "ml.m5d.4xlarge",
    "vcpuNum": 16
   },
   {
    "_defaultOrder": 16,
    "_isFastLaunch": false,
    "category": "General purpose",
    "gpuNum": 0,
    "hideHardwareSpecs": false,
    "memoryGiB": 128,
    "name": "ml.m5d.8xlarge",
    "vcpuNum": 32
   },
   {
    "_defaultOrder": 17,
    "_isFastLaunch": false,
    "category": "General purpose",
    "gpuNum": 0,
    "hideHardwareSpecs": false,
    "memoryGiB": 192,
    "name": "ml.m5d.12xlarge",
    "vcpuNum": 48
   },
   {
    "_defaultOrder": 18,
    "_isFastLaunch": false,
    "category": "General purpose",
    "gpuNum": 0,
    "hideHardwareSpecs": false,
    "memoryGiB": 256,
    "name": "ml.m5d.16xlarge",
    "vcpuNum": 64
   },
   {
    "_defaultOrder": 19,
    "_isFastLaunch": false,
    "category": "General purpose",
    "gpuNum": 0,
    "hideHardwareSpecs": false,
    "memoryGiB": 384,
    "name": "ml.m5d.24xlarge",
    "vcpuNum": 96
   },
   {
    "_defaultOrder": 20,
    "_isFastLaunch": false,
    "category": "General purpose",
    "gpuNum": 0,
    "hideHardwareSpecs": true,
    "memoryGiB": 0,
    "name": "ml.geospatial.interactive",
    "supportedImageNames": [
     "sagemaker-geospatial-v1-0"
    ],
    "vcpuNum": 0
   },
   {
    "_defaultOrder": 21,
    "_isFastLaunch": true,
    "category": "Compute optimized",
    "gpuNum": 0,
    "hideHardwareSpecs": false,
    "memoryGiB": 4,
    "name": "ml.c5.large",
    "vcpuNum": 2
   },
   {
    "_defaultOrder": 22,
    "_isFastLaunch": false,
    "category": "Compute optimized",
    "gpuNum": 0,
    "hideHardwareSpecs": false,
    "memoryGiB": 8,
    "name": "ml.c5.xlarge",
    "vcpuNum": 4
   },
   {
    "_defaultOrder": 23,
    "_isFastLaunch": false,
    "category": "Compute optimized",
    "gpuNum": 0,
    "hideHardwareSpecs": false,
    "memoryGiB": 16,
    "name": "ml.c5.2xlarge",
    "vcpuNum": 8
   },
   {
    "_defaultOrder": 24,
    "_isFastLaunch": false,
    "category": "Compute optimized",
    "gpuNum": 0,
    "hideHardwareSpecs": false,
    "memoryGiB": 32,
    "name": "ml.c5.4xlarge",
    "vcpuNum": 16
   },
   {
    "_defaultOrder": 25,
    "_isFastLaunch": false,
    "category": "Compute optimized",
    "gpuNum": 0,
    "hideHardwareSpecs": false,
    "memoryGiB": 72,
    "name": "ml.c5.9xlarge",
    "vcpuNum": 36
   },
   {
    "_defaultOrder": 26,
    "_isFastLaunch": false,
    "category": "Compute optimized",
    "gpuNum": 0,
    "hideHardwareSpecs": false,
    "memoryGiB": 96,
    "name": "ml.c5.12xlarge",
    "vcpuNum": 48
   },
   {
    "_defaultOrder": 27,
    "_isFastLaunch": false,
    "category": "Compute optimized",
    "gpuNum": 0,
    "hideHardwareSpecs": false,
    "memoryGiB": 144,
    "name": "ml.c5.18xlarge",
    "vcpuNum": 72
   },
   {
    "_defaultOrder": 28,
    "_isFastLaunch": false,
    "category": "Compute optimized",
    "gpuNum": 0,
    "hideHardwareSpecs": false,
    "memoryGiB": 192,
    "name": "ml.c5.24xlarge",
    "vcpuNum": 96
   },
   {
    "_defaultOrder": 29,
    "_isFastLaunch": true,
    "category": "Accelerated computing",
    "gpuNum": 1,
    "hideHardwareSpecs": false,
    "memoryGiB": 16,
    "name": "ml.g4dn.xlarge",
    "vcpuNum": 4
   },
   {
    "_defaultOrder": 30,
    "_isFastLaunch": false,
    "category": "Accelerated computing",
    "gpuNum": 1,
    "hideHardwareSpecs": false,
    "memoryGiB": 32,
    "name": "ml.g4dn.2xlarge",
    "vcpuNum": 8
   },
   {
    "_defaultOrder": 31,
    "_isFastLaunch": false,
    "category": "Accelerated computing",
    "gpuNum": 1,
    "hideHardwareSpecs": false,
    "memoryGiB": 64,
    "name": "ml.g4dn.4xlarge",
    "vcpuNum": 16
   },
   {
    "_defaultOrder": 32,
    "_isFastLaunch": false,
    "category": "Accelerated computing",
    "gpuNum": 1,
    "hideHardwareSpecs": false,
    "memoryGiB": 128,
    "name": "ml.g4dn.8xlarge",
    "vcpuNum": 32
   },
   {
    "_defaultOrder": 33,
    "_isFastLaunch": false,
    "category": "Accelerated computing",
    "gpuNum": 4,
    "hideHardwareSpecs": false,
    "memoryGiB": 192,
    "name": "ml.g4dn.12xlarge",
    "vcpuNum": 48
   },
   {
    "_defaultOrder": 34,
    "_isFastLaunch": false,
    "category": "Accelerated computing",
    "gpuNum": 1,
    "hideHardwareSpecs": false,
    "memoryGiB": 256,
    "name": "ml.g4dn.16xlarge",
    "vcpuNum": 64
   },
   {
    "_defaultOrder": 35,
    "_isFastLaunch": false,
    "category": "Accelerated computing",
    "gpuNum": 1,
    "hideHardwareSpecs": false,
    "memoryGiB": 61,
    "name": "ml.p3.2xlarge",
    "vcpuNum": 8
   },
   {
    "_defaultOrder": 36,
    "_isFastLaunch": false,
    "category": "Accelerated computing",
    "gpuNum": 4,
    "hideHardwareSpecs": false,
    "memoryGiB": 244,
    "name": "ml.p3.8xlarge",
    "vcpuNum": 32
   },
   {
    "_defaultOrder": 37,
    "_isFastLaunch": false,
    "category": "Accelerated computing",
    "gpuNum": 8,
    "hideHardwareSpecs": false,
    "memoryGiB": 488,
    "name": "ml.p3.16xlarge",
    "vcpuNum": 64
   },
   {
    "_defaultOrder": 38,
    "_isFastLaunch": false,
    "category": "Accelerated computing",
    "gpuNum": 8,
    "hideHardwareSpecs": false,
    "memoryGiB": 768,
    "name": "ml.p3dn.24xlarge",
    "vcpuNum": 96
   },
   {
    "_defaultOrder": 39,
    "_isFastLaunch": false,
    "category": "Memory Optimized",
    "gpuNum": 0,
    "hideHardwareSpecs": false,
    "memoryGiB": 16,
    "name": "ml.r5.large",
    "vcpuNum": 2
   },
   {
    "_defaultOrder": 40,
    "_isFastLaunch": false,
    "category": "Memory Optimized",
    "gpuNum": 0,
    "hideHardwareSpecs": false,
    "memoryGiB": 32,
    "name": "ml.r5.xlarge",
    "vcpuNum": 4
   },
   {
    "_defaultOrder": 41,
    "_isFastLaunch": false,
    "category": "Memory Optimized",
    "gpuNum": 0,
    "hideHardwareSpecs": false,
    "memoryGiB": 64,
    "name": "ml.r5.2xlarge",
    "vcpuNum": 8
   },
   {
    "_defaultOrder": 42,
    "_isFastLaunch": false,
    "category": "Memory Optimized",
    "gpuNum": 0,
    "hideHardwareSpecs": false,
    "memoryGiB": 128,
    "name": "ml.r5.4xlarge",
    "vcpuNum": 16
   },
   {
    "_defaultOrder": 43,
    "_isFastLaunch": false,
    "category": "Memory Optimized",
    "gpuNum": 0,
    "hideHardwareSpecs": false,
    "memoryGiB": 256,
    "name": "ml.r5.8xlarge",
    "vcpuNum": 32
   },
   {
    "_defaultOrder": 44,
    "_isFastLaunch": false,
    "category": "Memory Optimized",
    "gpuNum": 0,
    "hideHardwareSpecs": false,
    "memoryGiB": 384,
    "name": "ml.r5.12xlarge",
    "vcpuNum": 48
   },
   {
    "_defaultOrder": 45,
    "_isFastLaunch": false,
    "category": "Memory Optimized",
    "gpuNum": 0,
    "hideHardwareSpecs": false,
    "memoryGiB": 512,
    "name": "ml.r5.16xlarge",
    "vcpuNum": 64
   },
   {
    "_defaultOrder": 46,
    "_isFastLaunch": false,
    "category": "Memory Optimized",
    "gpuNum": 0,
    "hideHardwareSpecs": false,
    "memoryGiB": 768,
    "name": "ml.r5.24xlarge",
    "vcpuNum": 96
   },
   {
    "_defaultOrder": 47,
    "_isFastLaunch": false,
    "category": "Accelerated computing",
    "gpuNum": 1,
    "hideHardwareSpecs": false,
    "memoryGiB": 16,
    "name": "ml.g5.xlarge",
    "vcpuNum": 4
   },
   {
    "_defaultOrder": 48,
    "_isFastLaunch": false,
    "category": "Accelerated computing",
    "gpuNum": 1,
    "hideHardwareSpecs": false,
    "memoryGiB": 32,
    "name": "ml.g5.2xlarge",
    "vcpuNum": 8
   },
   {
    "_defaultOrder": 49,
    "_isFastLaunch": false,
    "category": "Accelerated computing",
    "gpuNum": 1,
    "hideHardwareSpecs": false,
    "memoryGiB": 64,
    "name": "ml.g5.4xlarge",
    "vcpuNum": 16
   },
   {
    "_defaultOrder": 50,
    "_isFastLaunch": false,
    "category": "Accelerated computing",
    "gpuNum": 1,
    "hideHardwareSpecs": false,
    "memoryGiB": 128,
    "name": "ml.g5.8xlarge",
    "vcpuNum": 32
   },
   {
    "_defaultOrder": 51,
    "_isFastLaunch": false,
    "category": "Accelerated computing",
    "gpuNum": 1,
    "hideHardwareSpecs": false,
    "memoryGiB": 256,
    "name": "ml.g5.16xlarge",
    "vcpuNum": 64
   },
   {
    "_defaultOrder": 52,
    "_isFastLaunch": false,
    "category": "Accelerated computing",
    "gpuNum": 4,
    "hideHardwareSpecs": false,
    "memoryGiB": 192,
    "name": "ml.g5.12xlarge",
    "vcpuNum": 48
   },
   {
    "_defaultOrder": 53,
    "_isFastLaunch": false,
    "category": "Accelerated computing",
    "gpuNum": 4,
    "hideHardwareSpecs": false,
    "memoryGiB": 384,
    "name": "ml.g5.24xlarge",
    "vcpuNum": 96
   },
   {
    "_defaultOrder": 54,
    "_isFastLaunch": false,
    "category": "Accelerated computing",
    "gpuNum": 8,
    "hideHardwareSpecs": false,
    "memoryGiB": 768,
    "name": "ml.g5.48xlarge",
    "vcpuNum": 192
   },
   {
    "_defaultOrder": 55,
    "_isFastLaunch": false,
    "category": "Accelerated computing",
    "gpuNum": 8,
    "hideHardwareSpecs": false,
    "memoryGiB": 1152,
    "name": "ml.p4d.24xlarge",
    "vcpuNum": 96
   },
   {
    "_defaultOrder": 56,
    "_isFastLaunch": false,
    "category": "Accelerated computing",
    "gpuNum": 8,
    "hideHardwareSpecs": false,
    "memoryGiB": 1152,
    "name": "ml.p4de.24xlarge",
    "vcpuNum": 96
   },
   {
    "_defaultOrder": 57,
    "_isFastLaunch": false,
    "category": "Accelerated computing",
    "gpuNum": 0,
    "hideHardwareSpecs": false,
    "memoryGiB": 32,
    "name": "ml.trn1.2xlarge",
    "vcpuNum": 8
   },
   {
    "_defaultOrder": 58,
    "_isFastLaunch": false,
    "category": "Accelerated computing",
    "gpuNum": 0,
    "hideHardwareSpecs": false,
    "memoryGiB": 512,
    "name": "ml.trn1.32xlarge",
    "vcpuNum": 128
   },
   {
    "_defaultOrder": 59,
    "_isFastLaunch": false,
    "category": "Accelerated computing",
    "gpuNum": 0,
    "hideHardwareSpecs": false,
    "memoryGiB": 512,
    "name": "ml.trn1n.32xlarge",
    "vcpuNum": 128
   }
  ],
  "colab": {
   "provenance": []
  },
  "instance_type": "ml.m5.large",
  "kernelspec": {
   "display_name": "Python 3 (Data Science 3.0)",
   "language": "python",
   "name": "python3__SAGEMAKER_INTERNAL__arn:aws:sagemaker:us-west-2:236514542706:image/sagemaker-data-science-310-v1"
  },
  "language_info": {
   "codemirror_mode": {
    "name": "ipython",
    "version": 3
   },
   "file_extension": ".py",
   "mimetype": "text/x-python",
   "name": "python",
   "nbconvert_exporter": "python",
   "pygments_lexer": "ipython3",
   "version": "3.10.6"
  }
 },
 "nbformat": 4,
 "nbformat_minor": 4
}
